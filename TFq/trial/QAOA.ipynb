{
 "cells": [
  {
   "cell_type": "code",
   "execution_count": 24,
   "metadata": {},
   "outputs": [],
   "source": [
    "import tensorflow as tf\n",
    "import tensorflow_quantum as tfq\n",
    "\n",
    "import cirq\n",
    "import sympy\n",
    "import numpy as np\n",
    "from cirq.contrib.svg import SVGCircuit"
   ]
  },
  {
   "cell_type": "code",
   "execution_count": 25,
   "metadata": {},
   "outputs": [],
   "source": [
    "q0, q1, q2, q3, q4, q5 = sympy.symbols('q0 q1 q2 q3 q4 q5')\n",
    "z0, z1, z2, z3, z4, z5 = sympy.symbols('z0 z1 z2 z3 z4 z5')\n",
    "K = sympy.symbols('K')"
   ]
  },
  {
   "cell_type": "code",
   "execution_count": 26,
   "metadata": {},
   "outputs": [
    {
     "name": "stdout",
     "output_type": "stream",
     "text": [
      "2*K*q0*q1 + 2*K*q0*q2 - K*q0 + 2*K*q1*q2 - K*q1 - K*q2 + 2*K*q3*q4 + 2*K*q3*q5 - K*q3 + 2*K*q4*q5 - K*q4 - K*q5 + 4*q0*q1 + 8*q0*q3 + 4*q0*q4 + 4*q0 + 2*q1*q2 + 4*q1*q3 + 8*q1*q4 + 2*q1*q5 + 4*q1 + 2*q2*q4 + 8*q2*q5 + 4*q2 + 4*q3*q4 + 4*q3 + 2*q4*q5 + 4*q4 + 4*q5\n"
     ]
    }
   ],
   "source": [
    "qubo1 = 4*q0+4*q0*q1+8*q0*q3+4*q0*q4+4*q1+2*q1*q2+4*q1*q3+8*q1*q4+2*q1*q5+4*q2+2*q2*q4+8*q2*q5+4*q3+4*q3*q4+4*q4+2*q4*q5+4*q5\n",
    "\n",
    "qubo2 = -K*q0+2*K*q0*q1+2*K*q0*q2-K*q1+2*K*q1*q2-K*q2-K*q3+2*K*q3*q4+2*K*q3*q5-K*q4+2*K*q4*q5-K*q5\n",
    "\n",
    "qubo = qubo1 + qubo2\n",
    "print(qubo)"
   ]
  },
  {
   "cell_type": "code",
   "execution_count": 27,
   "metadata": {},
   "outputs": [],
   "source": [
    "H = qubo.subs([(q0, ((1-z0)/2)), (q1, ((1-z1)/2)), (q2, ((1-z2)/2)), (q3, ((1-z3)/2)), (q4, ((1-z4)/2)), (q5, ((1-z5)/2))])"
   ]
  },
  {
   "cell_type": "code",
   "execution_count": 28,
   "metadata": {},
   "outputs": [
    {
     "data": {
      "text/latex": [
       "$\\displaystyle \\frac{K z_{0} z_{1}}{2} + \\frac{K z_{0} z_{2}}{2} - \\frac{K z_{0}}{2} + \\frac{K z_{1} z_{2}}{2} - \\frac{K z_{1}}{2} - \\frac{K z_{2}}{2} + \\frac{K z_{3} z_{4}}{2} + \\frac{K z_{3} z_{5}}{2} - \\frac{K z_{3}}{2} + \\frac{K z_{4} z_{5}}{2} - \\frac{K z_{4}}{2} - \\frac{K z_{5}}{2} + z_{0} z_{1} + 2 z_{0} z_{3} + z_{0} z_{4} - 6 z_{0} + \\frac{z_{1} z_{2}}{2} + z_{1} z_{3} + 2 z_{1} z_{4} + \\frac{z_{1} z_{5}}{2} - 7 z_{1} + \\frac{z_{2} z_{4}}{2} + 2 z_{2} z_{5} - 5 z_{2} + z_{3} z_{4} - 6 z_{3} + \\frac{z_{4} z_{5}}{2} - 7 z_{4} - 5 z_{5} + 24$"
      ],
      "text/plain": [
       "K*z0*z1/2 + K*z0*z2/2 - K*z0/2 + K*z1*z2/2 - K*z1/2 - K*z2/2 + K*z3*z4/2 + K*z3*z5/2 - K*z3/2 + K*z4*z5/2 - K*z4/2 - K*z5/2 + z0*z1 + 2*z0*z3 + z0*z4 - 6*z0 + z1*z2/2 + z1*z3 + 2*z1*z4 + z1*z5/2 - 7*z1 + z2*z4/2 + 2*z2*z5 - 5*z2 + z3*z4 - 6*z3 + z4*z5/2 - 7*z4 - 5*z5 + 24"
      ]
     },
     "execution_count": 28,
     "metadata": {},
     "output_type": "execute_result"
    }
   ],
   "source": [
    "H_symbol = H.simplify()\n",
    "H_symbol"
   ]
  },
  {
   "cell_type": "code",
   "execution_count": 29,
   "metadata": {},
   "outputs": [],
   "source": [
    "def CostUnitary(circuit, control_params, i, K):\n",
    "    circuit.append(cirq.ZZ(qubits[0], qubits[1])**((K / 2 + 1) * control_params[i]))\n",
    "    circuit.append(cirq.ZZ(qubits[0], qubits[2])**(K / 2 * control_params[i]))\n",
    "    circuit.append(cirq.Z(qubits[0])**((-K / 2 - 6) * control_params[i]))\n",
    "    circuit.append(cirq.ZZ(qubits[1], qubits[2])**((K + 1) / 2 * control_params[i]))\n",
    "    circuit.append(cirq.Z(qubits[1])**((- K / 2 - 7) * control_params[i]))\n",
    "    circuit.append(cirq.Z(qubits[2])**((- K / 2 - 5) * control_params[i]))\n",
    "    circuit.append(cirq.ZZ(qubits[3], qubits[4])**((K / 2 + 1) * control_params[i]))\n",
    "    circuit.append(cirq.ZZ(qubits[3], qubits[5])**(K / 2 * control_params[i]))\n",
    "    circuit.append(cirq.Z(qubits[3])**((- K / 2 - 6) * control_params[i]))\n",
    "    circuit.append(cirq.ZZ(qubits[4], qubits[5])**((K + 1) / 2 * control_params[i]))\n",
    "    circuit.append(cirq.Z(qubits[4])**((- K / 2 - 7) * control_params[i]))\n",
    "    circuit.append(cirq.Z(qubits[5])**((- K / 2 - 5) * control_params[i]))\n",
    "    circuit.append(cirq.ZZ(qubits[0], qubits[3])**(2 * control_params[i]))\n",
    "    circuit.append(cirq.ZZ(qubits[0], qubits[4])**(control_params[i]))\n",
    "    circuit.append(cirq.ZZ(qubits[1], qubits[3])**(control_params[i]))\n",
    "    circuit.append(cirq.ZZ(qubits[1], qubits[4])**(2 * control_params[i]))\n",
    "    circuit.append(cirq.ZZ(qubits[1], qubits[5])**(1 / 2 * control_params[i]))\n",
    "    circuit.append(cirq.ZZ(qubits[2], qubits[4])**(1 / 2 * control_params[i]))\n",
    "    circuit.append(cirq.ZZ(qubits[2], qubits[5])**(2 * control_params[i]))\n",
    "    return circuit\n",
    "    \n",
    "def Mixer(circuit, i, N):\n",
    "    for j in range(N):\n",
    "        circuit.append(cirq.XPowGate(exponent = control_params[i]).on(qubits[j]))\n",
    "    return circuit\n",
    "\n",
    "def init_circuit(N):\n",
    "    initCircuit = cirq.Circuit()\n",
    "    qubits = cirq.GridQubit.rect(1, N)\n",
    "    for j in range(N):\n",
    "        initCircuit.append(cirq.H(qubits[j]))\n",
    "    return initCircuit"
   ]
  },
  {
   "cell_type": "code",
   "execution_count": 30,
   "metadata": {},
   "outputs": [
    {
     "data": {
      "image/svg+xml": [
       "<svg xmlns=\"http://www.w3.org/2000/svg\" width=\"1705.5504687500002\" height=\"340.0\"><line x1=\"32.246796875\" x2=\"1675.5504687500002\" y1=\"45.0\" y2=\"45.0\" stroke=\"#1967d2\" stroke-width=\"1\" /><line x1=\"32.246796875\" x2=\"1675.5504687500002\" y1=\"95.0\" y2=\"95.0\" stroke=\"#1967d2\" stroke-width=\"1\" /><line x1=\"32.246796875\" x2=\"1675.5504687500002\" y1=\"145.0\" y2=\"145.0\" stroke=\"#1967d2\" stroke-width=\"1\" /><line x1=\"32.246796875\" x2=\"1675.5504687500002\" y1=\"195.0\" y2=\"195.0\" stroke=\"#1967d2\" stroke-width=\"1\" /><line x1=\"32.246796875\" x2=\"1675.5504687500002\" y1=\"245.0\" y2=\"245.0\" stroke=\"#1967d2\" stroke-width=\"1\" /><line x1=\"32.246796875\" x2=\"1675.5504687500002\" y1=\"295.0\" y2=\"295.0\" stroke=\"#1967d2\" stroke-width=\"1\" /><line x1=\"1395.2162109375001\" x2=\"1575.3405078125002\" y1=\"5.0\" y2=\"5.0\" stroke=\"black\" stroke-width=\"1\" /><line x1=\"1395.2162109375001\" x2=\"1575.3405078125002\" y1=\"335.0\" y2=\"335.0\" stroke=\"black\" stroke-width=\"1\" /><line x1=\"1132.0359765625\" x2=\"1385.2162109375001\" y1=\"5.0\" y2=\"5.0\" stroke=\"black\" stroke-width=\"1\" /><line x1=\"1132.0359765625\" x2=\"1385.2162109375001\" y1=\"335.0\" y2=\"335.0\" stroke=\"black\" stroke-width=\"1\" /><line x1=\"941.9116796875\" x2=\"1122.0359765625\" y1=\"5.0\" y2=\"5.0\" stroke=\"black\" stroke-width=\"1\" /><line x1=\"941.9116796875\" x2=\"1122.0359765625\" y1=\"335.0\" y2=\"335.0\" stroke=\"black\" stroke-width=\"1\" /><line x1=\"747.5288671875\" x2=\"931.9116796875\" y1=\"5.0\" y2=\"5.0\" stroke=\"black\" stroke-width=\"1\" /><line x1=\"747.5288671875\" x2=\"931.9116796875\" y1=\"335.0\" y2=\"335.0\" stroke=\"black\" stroke-width=\"1\" /><line x1=\"492.12792968750006\" x2=\"737.5288671875\" y1=\"5.0\" y2=\"5.0\" stroke=\"black\" stroke-width=\"1\" /><line x1=\"492.12792968750006\" x2=\"737.5288671875\" y1=\"335.0\" y2=\"335.0\" stroke=\"black\" stroke-width=\"1\" /><line x1=\"135.28865234375002\" x2=\"135.28865234375002\" y1=\"45.0\" y2=\"95.0\" stroke=\"black\" stroke-width=\"3\" /><line x1=\"135.28865234375002\" x2=\"135.28865234375002\" y1=\"195.0\" y2=\"245.0\" stroke=\"black\" stroke-width=\"3\" /><line x1=\"276.87876953125004\" x2=\"276.87876953125004\" y1=\"45.0\" y2=\"145.0\" stroke=\"black\" stroke-width=\"3\" /><line x1=\"276.87876953125004\" x2=\"276.87876953125004\" y1=\"195.0\" y2=\"295.0\" stroke=\"black\" stroke-width=\"3\" /><line x1=\"419.90087890625006\" x2=\"419.90087890625006\" y1=\"95.0\" y2=\"145.0\" stroke=\"black\" stroke-width=\"3\" /><line x1=\"419.90087890625006\" x2=\"419.90087890625006\" y1=\"245.0\" y2=\"295.0\" stroke=\"black\" stroke-width=\"3\" /><line x1=\"672.57169921875\" x2=\"672.57169921875\" y1=\"45.0\" y2=\"195.0\" stroke=\"black\" stroke-width=\"3\" /><line x1=\"791.1245703125\" x2=\"791.1245703125\" y1=\"45.0\" y2=\"245.0\" stroke=\"black\" stroke-width=\"3\" /><line x1=\"878.3159765625\" x2=\"878.3159765625\" y1=\"95.0\" y2=\"195.0\" stroke=\"black\" stroke-width=\"3\" /><line x1=\"996.8688476562501\" x2=\"996.8688476562501\" y1=\"95.0\" y2=\"245.0\" stroke=\"black\" stroke-width=\"3\" /><line x1=\"1192.83103515625\" x2=\"1192.83103515625\" y1=\"95.0\" y2=\"295.0\" stroke=\"black\" stroke-width=\"3\" /><line x1=\"1314.42115234375\" x2=\"1314.42115234375\" y1=\"145.0\" y2=\"245.0\" stroke=\"black\" stroke-width=\"3\" /><line x1=\"1450.17337890625\" x2=\"1450.17337890625\" y1=\"145.0\" y2=\"295.0\" stroke=\"black\" stroke-width=\"3\" /><line x1=\"1395.2162109375001\" x2=\"1395.2162109375001\" y1=\"5.0\" y2=\"15.0\" stroke=\"black\" stroke-width=\"3\" /><line x1=\"1575.3405078125002\" x2=\"1575.3405078125002\" y1=\"5.0\" y2=\"15.0\" stroke=\"black\" stroke-width=\"3\" /><line x1=\"1395.2162109375001\" x2=\"1395.2162109375001\" y1=\"325.0\" y2=\"335.0\" stroke=\"black\" stroke-width=\"3\" /><line x1=\"1575.3405078125002\" x2=\"1575.3405078125002\" y1=\"325.0\" y2=\"335.0\" stroke=\"black\" stroke-width=\"3\" /><line x1=\"1132.0359765625\" x2=\"1132.0359765625\" y1=\"5.0\" y2=\"15.0\" stroke=\"black\" stroke-width=\"3\" /><line x1=\"1385.2162109375001\" x2=\"1385.2162109375001\" y1=\"5.0\" y2=\"15.0\" stroke=\"black\" stroke-width=\"3\" /><line x1=\"1132.0359765625\" x2=\"1132.0359765625\" y1=\"325.0\" y2=\"335.0\" stroke=\"black\" stroke-width=\"3\" /><line x1=\"1385.2162109375001\" x2=\"1385.2162109375001\" y1=\"325.0\" y2=\"335.0\" stroke=\"black\" stroke-width=\"3\" /><line x1=\"941.9116796875\" x2=\"941.9116796875\" y1=\"5.0\" y2=\"15.0\" stroke=\"black\" stroke-width=\"3\" /><line x1=\"1122.0359765625\" x2=\"1122.0359765625\" y1=\"5.0\" y2=\"15.0\" stroke=\"black\" stroke-width=\"3\" /><line x1=\"941.9116796875\" x2=\"941.9116796875\" y1=\"325.0\" y2=\"335.0\" stroke=\"black\" stroke-width=\"3\" /><line x1=\"1122.0359765625\" x2=\"1122.0359765625\" y1=\"325.0\" y2=\"335.0\" stroke=\"black\" stroke-width=\"3\" /><line x1=\"747.5288671875\" x2=\"747.5288671875\" y1=\"5.0\" y2=\"15.0\" stroke=\"black\" stroke-width=\"3\" /><line x1=\"931.9116796875\" x2=\"931.9116796875\" y1=\"5.0\" y2=\"15.0\" stroke=\"black\" stroke-width=\"3\" /><line x1=\"747.5288671875\" x2=\"747.5288671875\" y1=\"325.0\" y2=\"335.0\" stroke=\"black\" stroke-width=\"3\" /><line x1=\"931.9116796875\" x2=\"931.9116796875\" y1=\"325.0\" y2=\"335.0\" stroke=\"black\" stroke-width=\"3\" /><line x1=\"492.12792968750006\" x2=\"492.12792968750006\" y1=\"5.0\" y2=\"15.0\" stroke=\"black\" stroke-width=\"3\" /><line x1=\"737.5288671875\" x2=\"737.5288671875\" y1=\"5.0\" y2=\"15.0\" stroke=\"black\" stroke-width=\"3\" /><line x1=\"492.12792968750006\" x2=\"492.12792968750006\" y1=\"325.0\" y2=\"335.0\" stroke=\"black\" stroke-width=\"3\" /><line x1=\"737.5288671875\" x2=\"737.5288671875\" y1=\"325.0\" y2=\"335.0\" stroke=\"black\" stroke-width=\"3\" /><rect x=\"10.0\" y=\"25.0\" width=\"44.49359375\" height=\"40\" stroke=\"black\" fill=\"white\" stroke-width=\"0\" /><text x=\"32.246796875\" y=\"45.0\" dominant-baseline=\"middle\" text-anchor=\"middle\" font-size=\"14px\">(0, 0): </text><rect x=\"10.0\" y=\"75.0\" width=\"44.49359375\" height=\"40\" stroke=\"black\" fill=\"white\" stroke-width=\"0\" /><text x=\"32.246796875\" y=\"95.0\" dominant-baseline=\"middle\" text-anchor=\"middle\" font-size=\"14px\">(1, 0): </text><rect x=\"10.0\" y=\"125.0\" width=\"44.49359375\" height=\"40\" stroke=\"black\" fill=\"white\" stroke-width=\"0\" /><text x=\"32.246796875\" y=\"145.0\" dominant-baseline=\"middle\" text-anchor=\"middle\" font-size=\"14px\">(2, 0): </text><rect x=\"10.0\" y=\"175.0\" width=\"44.49359375\" height=\"40\" stroke=\"black\" fill=\"white\" stroke-width=\"0\" /><text x=\"32.246796875\" y=\"195.0\" dominant-baseline=\"middle\" text-anchor=\"middle\" font-size=\"14px\">(3, 0): </text><rect x=\"10.0\" y=\"225.0\" width=\"44.49359375\" height=\"40\" stroke=\"black\" fill=\"white\" stroke-width=\"0\" /><text x=\"32.246796875\" y=\"245.0\" dominant-baseline=\"middle\" text-anchor=\"middle\" font-size=\"14px\">(4, 0): </text><rect x=\"10.0\" y=\"275.0\" width=\"44.49359375\" height=\"40\" stroke=\"black\" fill=\"white\" stroke-width=\"0\" /><text x=\"32.246796875\" y=\"295.0\" dominant-baseline=\"middle\" text-anchor=\"middle\" font-size=\"14px\">(5, 0): </text><rect x=\"74.49359375\" y=\"25.0\" width=\"121.59011718750003\" height=\"40\" stroke=\"black\" fill=\"white\" stroke-width=\"1\" /><text x=\"135.28865234375002\" y=\"45.0\" dominant-baseline=\"middle\" text-anchor=\"middle\" font-size=\"14px\">ZZ</text><rect x=\"74.49359375\" y=\"75.0\" width=\"121.59011718750003\" height=\"40\" stroke=\"black\" fill=\"white\" stroke-width=\"1\" /><text x=\"135.28865234375002\" y=\"95.0\" dominant-baseline=\"middle\" text-anchor=\"middle\" font-size=\"14px\">ZZ^(6.0*gamma0)</text><rect x=\"74.49359375\" y=\"175.0\" width=\"121.59011718750003\" height=\"40\" stroke=\"black\" fill=\"white\" stroke-width=\"1\" /><text x=\"135.28865234375002\" y=\"195.0\" dominant-baseline=\"middle\" text-anchor=\"middle\" font-size=\"14px\">ZZ</text><rect x=\"74.49359375\" y=\"225.0\" width=\"121.59011718750003\" height=\"40\" stroke=\"black\" fill=\"white\" stroke-width=\"1\" /><text x=\"135.28865234375002\" y=\"245.0\" dominant-baseline=\"middle\" text-anchor=\"middle\" font-size=\"14px\">ZZ^(6.0*gamma0)</text><rect x=\"216.08371093750003\" y=\"25.0\" width=\"121.59011718750003\" height=\"40\" stroke=\"black\" fill=\"white\" stroke-width=\"1\" /><text x=\"276.87876953125004\" y=\"45.0\" dominant-baseline=\"middle\" text-anchor=\"middle\" font-size=\"14px\">ZZ</text><rect x=\"216.08371093750003\" y=\"125.0\" width=\"121.59011718750003\" height=\"40\" stroke=\"black\" fill=\"white\" stroke-width=\"1\" /><text x=\"276.87876953125004\" y=\"145.0\" dominant-baseline=\"middle\" text-anchor=\"middle\" font-size=\"14px\">ZZ^(5.0*gamma0)</text><rect x=\"216.08371093750003\" y=\"175.0\" width=\"121.59011718750003\" height=\"40\" stroke=\"black\" fill=\"white\" stroke-width=\"1\" /><text x=\"276.87876953125004\" y=\"195.0\" dominant-baseline=\"middle\" text-anchor=\"middle\" font-size=\"14px\">ZZ</text><rect x=\"216.08371093750003\" y=\"275.0\" width=\"121.59011718750003\" height=\"40\" stroke=\"black\" fill=\"white\" stroke-width=\"1\" /><text x=\"276.87876953125004\" y=\"295.0\" dominant-baseline=\"middle\" text-anchor=\"middle\" font-size=\"14px\">ZZ^(5.0*gamma0)</text><rect x=\"357.67382812500006\" y=\"25.0\" width=\"124.4541015625\" height=\"40\" stroke=\"black\" fill=\"white\" stroke-width=\"1\" /><text x=\"419.90087890625006\" y=\"45.0\" dominant-baseline=\"middle\" text-anchor=\"middle\" font-size=\"14px\">Z^(-11.0*gamma0)</text><rect x=\"357.67382812500006\" y=\"75.0\" width=\"124.4541015625\" height=\"40\" stroke=\"black\" fill=\"white\" stroke-width=\"1\" /><text x=\"419.90087890625006\" y=\"95.0\" dominant-baseline=\"middle\" text-anchor=\"middle\" font-size=\"14px\">ZZ</text><rect x=\"357.67382812500006\" y=\"125.0\" width=\"124.4541015625\" height=\"40\" stroke=\"black\" fill=\"white\" stroke-width=\"1\" /><text x=\"419.90087890625006\" y=\"145.0\" dominant-baseline=\"middle\" text-anchor=\"middle\" font-size=\"14px\">ZZ^(5.5*gamma0)</text><rect x=\"357.67382812500006\" y=\"175.0\" width=\"124.4541015625\" height=\"40\" stroke=\"black\" fill=\"white\" stroke-width=\"1\" /><text x=\"419.90087890625006\" y=\"195.0\" dominant-baseline=\"middle\" text-anchor=\"middle\" font-size=\"14px\">Z^(-11.0*gamma0)</text><rect x=\"357.67382812500006\" y=\"225.0\" width=\"124.4541015625\" height=\"40\" stroke=\"black\" fill=\"white\" stroke-width=\"1\" /><text x=\"419.90087890625006\" y=\"245.0\" dominant-baseline=\"middle\" text-anchor=\"middle\" font-size=\"14px\">ZZ</text><rect x=\"357.67382812500006\" y=\"275.0\" width=\"124.4541015625\" height=\"40\" stroke=\"black\" fill=\"white\" stroke-width=\"1\" /><text x=\"419.90087890625006\" y=\"295.0\" dominant-baseline=\"middle\" text-anchor=\"middle\" font-size=\"14px\">ZZ^(5.5*gamma0)</text><rect x=\"492.1279296875\" y=\"75.0\" width=\"125.48660156250001\" height=\"40\" stroke=\"black\" fill=\"white\" stroke-width=\"1\" /><text x=\"554.87123046875\" y=\"95.0\" dominant-baseline=\"middle\" text-anchor=\"middle\" font-size=\"14px\">Z^(-12.0*gamma0)</text><rect x=\"492.1279296875\" y=\"125.0\" width=\"125.48660156250001\" height=\"40\" stroke=\"black\" fill=\"white\" stroke-width=\"1\" /><text x=\"554.87123046875\" y=\"145.0\" dominant-baseline=\"middle\" text-anchor=\"middle\" font-size=\"14px\">Z^(-10.0*gamma0)</text><rect x=\"492.1279296875\" y=\"225.0\" width=\"125.48660156250001\" height=\"40\" stroke=\"black\" fill=\"white\" stroke-width=\"1\" /><text x=\"554.87123046875\" y=\"245.0\" dominant-baseline=\"middle\" text-anchor=\"middle\" font-size=\"14px\">Z^(-12.0*gamma0)</text><rect x=\"492.1279296875\" y=\"275.0\" width=\"125.48660156250001\" height=\"40\" stroke=\"black\" fill=\"white\" stroke-width=\"1\" /><text x=\"554.87123046875\" y=\"295.0\" dominant-baseline=\"middle\" text-anchor=\"middle\" font-size=\"14px\">Z^(-10.0*gamma0)</text><rect x=\"617.61453125\" y=\"25.0\" width=\"109.91433593750001\" height=\"40\" stroke=\"black\" fill=\"white\" stroke-width=\"1\" /><text x=\"672.57169921875\" y=\"45.0\" dominant-baseline=\"middle\" text-anchor=\"middle\" font-size=\"14px\">ZZ</text><rect x=\"617.61453125\" y=\"175.0\" width=\"109.91433593750001\" height=\"40\" stroke=\"black\" fill=\"white\" stroke-width=\"1\" /><text x=\"672.57169921875\" y=\"195.0\" dominant-baseline=\"middle\" text-anchor=\"middle\" font-size=\"14px\">ZZ^(2*gamma0)</text><rect x=\"747.5288671875\" y=\"25.0\" width=\"87.19140625\" height=\"40\" stroke=\"black\" fill=\"white\" stroke-width=\"1\" /><text x=\"791.1245703125\" y=\"45.0\" dominant-baseline=\"middle\" text-anchor=\"middle\" font-size=\"14px\">ZZ</text><rect x=\"747.5288671875\" y=\"225.0\" width=\"87.19140625\" height=\"40\" stroke=\"black\" fill=\"white\" stroke-width=\"1\" /><text x=\"791.1245703125\" y=\"245.0\" dominant-baseline=\"middle\" text-anchor=\"middle\" font-size=\"14px\">ZZ^gamma0</text><rect x=\"834.7202734375\" y=\"75.0\" width=\"87.19140625\" height=\"40\" stroke=\"black\" fill=\"white\" stroke-width=\"1\" /><text x=\"878.3159765625\" y=\"95.0\" dominant-baseline=\"middle\" text-anchor=\"middle\" font-size=\"14px\">ZZ</text><rect x=\"834.7202734375\" y=\"175.0\" width=\"87.19140625\" height=\"40\" stroke=\"black\" fill=\"white\" stroke-width=\"1\" /><text x=\"878.3159765625\" y=\"195.0\" dominant-baseline=\"middle\" text-anchor=\"middle\" font-size=\"14px\">ZZ^gamma0</text><rect x=\"941.9116796875\" y=\"75.0\" width=\"109.91433593750001\" height=\"40\" stroke=\"black\" fill=\"white\" stroke-width=\"1\" /><text x=\"996.8688476562501\" y=\"95.0\" dominant-baseline=\"middle\" text-anchor=\"middle\" font-size=\"14px\">ZZ</text><rect x=\"941.9116796875\" y=\"225.0\" width=\"109.91433593750001\" height=\"40\" stroke=\"black\" fill=\"white\" stroke-width=\"1\" /><text x=\"996.8688476562501\" y=\"245.0\" dominant-baseline=\"middle\" text-anchor=\"middle\" font-size=\"14px\">ZZ^(2*gamma0)</text><rect x=\"941.9116796875\" y=\"25.0\" width=\"109.91433593750001\" height=\"40\" stroke=\"black\" fill=\"white\" stroke-width=\"1\" /><text x=\"996.8688476562501\" y=\"45.0\" dominant-baseline=\"middle\" text-anchor=\"middle\" font-size=\"14px\">X^beta0</text><rect x=\"1051.826015625\" y=\"175.0\" width=\"60.20996093750001\" height=\"40\" stroke=\"black\" fill=\"white\" stroke-width=\"1\" /><text x=\"1081.93099609375\" y=\"195.0\" dominant-baseline=\"middle\" text-anchor=\"middle\" font-size=\"14px\">X^beta0</text><rect x=\"1132.0359765625\" y=\"75.0\" width=\"121.59011718750001\" height=\"40\" stroke=\"black\" fill=\"white\" stroke-width=\"1\" /><text x=\"1192.83103515625\" y=\"95.0\" dominant-baseline=\"middle\" text-anchor=\"middle\" font-size=\"14px\">ZZ</text><rect x=\"1132.0359765625\" y=\"275.0\" width=\"121.59011718750001\" height=\"40\" stroke=\"black\" fill=\"white\" stroke-width=\"1\" /><text x=\"1192.83103515625\" y=\"295.0\" dominant-baseline=\"middle\" text-anchor=\"middle\" font-size=\"14px\">ZZ^(0.5*gamma0)</text><rect x=\"1253.62609375\" y=\"125.0\" width=\"121.59011718750001\" height=\"40\" stroke=\"black\" fill=\"white\" stroke-width=\"1\" /><text x=\"1314.42115234375\" y=\"145.0\" dominant-baseline=\"middle\" text-anchor=\"middle\" font-size=\"14px\">ZZ</text><rect x=\"1253.62609375\" y=\"225.0\" width=\"121.59011718750001\" height=\"40\" stroke=\"black\" fill=\"white\" stroke-width=\"1\" /><text x=\"1314.42115234375\" y=\"245.0\" dominant-baseline=\"middle\" text-anchor=\"middle\" font-size=\"14px\">ZZ^(0.5*gamma0)</text><rect x=\"1395.2162109375001\" y=\"125.0\" width=\"109.91433593750001\" height=\"40\" stroke=\"black\" fill=\"white\" stroke-width=\"1\" /><text x=\"1450.17337890625\" y=\"145.0\" dominant-baseline=\"middle\" text-anchor=\"middle\" font-size=\"14px\">ZZ</text><rect x=\"1395.2162109375001\" y=\"275.0\" width=\"109.91433593750001\" height=\"40\" stroke=\"black\" fill=\"white\" stroke-width=\"1\" /><text x=\"1450.17337890625\" y=\"295.0\" dominant-baseline=\"middle\" text-anchor=\"middle\" font-size=\"14px\">ZZ^(2*gamma0)</text><rect x=\"1395.2162109375001\" y=\"75.0\" width=\"109.91433593750001\" height=\"40\" stroke=\"black\" fill=\"white\" stroke-width=\"1\" /><text x=\"1450.17337890625\" y=\"95.0\" dominant-baseline=\"middle\" text-anchor=\"middle\" font-size=\"14px\">X^beta0</text><rect x=\"1505.1305468750002\" y=\"225.0\" width=\"60.20996093750001\" height=\"40\" stroke=\"black\" fill=\"white\" stroke-width=\"1\" /><text x=\"1535.2355273437502\" y=\"245.0\" dominant-baseline=\"middle\" text-anchor=\"middle\" font-size=\"14px\">X^beta0</text><rect x=\"1595.3405078125002\" y=\"125.0\" width=\"60.2099609375\" height=\"40\" stroke=\"black\" fill=\"white\" stroke-width=\"1\" /><text x=\"1625.4454882812502\" y=\"145.0\" dominant-baseline=\"middle\" text-anchor=\"middle\" font-size=\"14px\">X^beta0</text><rect x=\"1595.3405078125002\" y=\"275.0\" width=\"60.2099609375\" height=\"40\" stroke=\"black\" fill=\"white\" stroke-width=\"1\" /><text x=\"1625.4454882812502\" y=\"295.0\" dominant-baseline=\"middle\" text-anchor=\"middle\" font-size=\"14px\">X^beta0</text></svg>"
      ],
      "text/plain": [
       "<cirq.contrib.svg.svg.SVGCircuit at 0x13a086438>"
      ]
     },
     "execution_count": 30,
     "metadata": {},
     "output_type": "execute_result"
    }
   ],
   "source": [
    "p = 1\n",
    "N = 6\n",
    "K = 10\n",
    "control_params = []\n",
    "for i in range(p):\n",
    "    gamma = 'gamma' + str(i)\n",
    "    beta = 'beta' + str(i)\n",
    "    control_params.append(sympy.symbols(gamma))\n",
    "    control_params.append(sympy.symbols(beta))\n",
    "\n",
    "#qubits = cirq.GridQubit.rect(1, N)\n",
    "qubits = [cirq.GridQubit(i, 0) for i in range(N)]\n",
    "model_circuit = cirq.Circuit()\n",
    "for i in range(p):\n",
    "    model_circuit = CostUnitary(model_circuit, control_params, 2 * i, K)\n",
    "    model_circuit = Mixer(model_circuit, 2 * i + 1, N)\n",
    "\n",
    "# resolver = cirq.ParamResolver({K: 1, control_params[0]: 0.3, control_params[1]: 0.6})\n",
    "# output_state_vector = cirq.Simulator().simulate(model_circuit, resolver).final_state\n",
    "# print(output_state_vector)\n",
    "\n",
    "# Z = 0\n",
    "# for i in range(N):\n",
    "#     Z += cirq.Z(qubits[i])\n",
    "# print(Z)\n",
    "\n",
    "# qubit_map={qubits[0]: 0, qubits[1]: 1, qubits[2]: 2, qubits[3]: 3, qubits[4]: 4, qubits[5]: 5}\n",
    "# print(Z.expectation_from_wavefunction(output_state_vector, qubit_map).real)\n",
    "\n",
    "SVGCircuit(model_circuit)"
   ]
  },
  {
   "cell_type": "code",
   "execution_count": 31,
   "metadata": {},
   "outputs": [],
   "source": [
    "controller = tf.keras.Sequential([\n",
    "    tf.keras.layers.Dense(10, activation='elu'),\n",
    "    tf.keras.layers.Dense(len(control_params))\n",
    "])"
   ]
  },
  {
   "cell_type": "code",
   "execution_count": 32,
   "metadata": {},
   "outputs": [],
   "source": [
    "datapoint_circuits = tfq.convert_to_tensor([init_circuit(N)])\n",
    "\n",
    "commands_input = tf.keras.layers.Input(shape=(1),\n",
    "                                       dtype=tf.dtypes.float32,\n",
    "                                       name='commands_input')\n",
    "circuits_input = tf.keras.Input(shape=(),\n",
    "                                # The circuit-tensor has dtype `tf.string` \n",
    "                                dtype=tf.dtypes.string,\n",
    "                                name='circuits_input')\n",
    "operators_input = tf.keras.Input(shape=(1,),\n",
    "                                 dtype=tf.dtypes.string,\n",
    "                                 name='operators_input')"
   ]
  },
  {
   "cell_type": "code",
   "execution_count": 33,
   "metadata": {},
   "outputs": [],
   "source": [
    "dense_2 = controller(commands_input) # tf.keras.Sequential\n",
    "full_circuit = tfq.layers.AddCircuit()(circuits_input, append=model_circuit)\n",
    "expectation_output = tfq.layers.Expectation()(full_circuit,\n",
    "                                              symbol_names=control_params,\n",
    "                                              symbol_values=dense_2,\n",
    "                                              operators=operators_input)\n",
    "\n",
    "model = tf.keras.Model(\n",
    "    inputs=[circuits_input, commands_input, operators_input],\n",
    "    outputs=[expectation_output])"
   ]
  },
  {
   "cell_type": "code",
   "execution_count": 39,
   "metadata": {},
   "outputs": [],
   "source": [
    "def ZZoperator(i, j):\n",
    "    return cirq.Z(qubits[i]) * cirq.Z(qubits[j])\n",
    "\n",
    "operators = [[-1 * ((K / 2 + 1) * ZZoperator(0, 1) + (K / 2) * ZZoperator(0, 2) - \\\n",
    "            (K / 2 + 6) * cirq.Z(qubits[0]) + (K / 2 + 1 / 2) * ZZoperator(1, 2) - \\\n",
    "            (K / 2 + 7) * cirq.Z(qubits[1]) - (K / 2 + 5) * cirq.Z(qubits[2]) + \\\n",
    "            (K / 2 + 1) * ZZoperator(3, 4) + (K / 2) * ZZoperator(3, 5) - \\\n",
    "            (K / 2 + 6) * cirq.Z(qubits[3]) + (K / 2 + 1 / 2) * ZZoperator(4, 5) - \\\n",
    "            (K / 2 + 7) * cirq.Z(qubits[4]) - (K / 2 + 5) * cirq.Z(qubits[5]) + \\\n",
    "            2 * ZZoperator(0, 3) + ZZoperator(0, 4) + ZZoperator(1, 3) + 2 * ZZoperator(1, 4) +\\\n",
    "            1 / 2 * ZZoperator(1, 5) + 1 / 2 * ZZoperator(2, 4) + 2 * ZZoperator(2, 5) + 2 * K + 24)]]"
   ]
  },
  {
   "cell_type": "code",
   "execution_count": 40,
   "metadata": {},
   "outputs": [],
   "source": [
    "# The operators to measure, for each command.\n",
    "operator_data = tfq.convert_to_tensor(operators)\n",
    "#operator_data = tfq.convert_to_tensor([[cirq.X(qubits[0])], [cirq.Z(qubits[0])]])\n",
    "\n",
    "# The command input values to the classical NN.\n",
    "commands = np.array([[1] for i in range(len(operators))], dtype=np.float32)\n",
    "\n",
    "# The desired expectation value at output of quantum circuit.\n",
    "expected_outputs = np.array([[10] for i in range(len(operators))], dtype=np.float32)"
   ]
  },
  {
   "cell_type": "code",
   "execution_count": 41,
   "metadata": {},
   "outputs": [
    {
     "data": {
      "image/png": "[encoded data removed]",
      "text/plain": [
       "<IPython.core.display.Image object>"
      ]
     },
     "execution_count": 41,
     "metadata": {},
     "output_type": "execute_result"
    }
   ],
   "source": [
    "optimizer = tf.keras.optimizers.Adam(learning_rate=0.05)\n",
    "loss = tf.keras.losses.MeanSquaredError()\n",
    "\n",
    "model.compile(optimizer=optimizer, loss=loss)\n",
    "\n",
    "tf.keras.utils.plot_model(model, show_shapes=True, dpi=70)"
   ]
  },
  {
   "cell_type": "code",
   "execution_count": 42,
   "metadata": {},
   "outputs": [],
   "source": [
    "history = model.fit(\n",
    "    x=[datapoint_circuits, commands, operator_data],\n",
    "    y=expected_outputs,\n",
    "    epochs=100,\n",
    "    verbose=0)"
   ]
  },
  {
   "cell_type": "code",
   "execution_count": 43,
   "metadata": {},
   "outputs": [
    {
     "data": {
      "text/plain": [
       "<tf.Tensor: shape=(1, 1), dtype=float32, numpy=array([[-16.300694]], dtype=float32)>"
      ]
     },
     "execution_count": 43,
     "metadata": {},
     "output_type": "execute_result"
    }
   ],
   "source": [
    "model([datapoint_circuits, commands, operator_data])"
   ]
  },
  {
   "cell_type": "code",
   "execution_count": 44,
   "metadata": {},
   "outputs": [
    {
     "name": "stdout",
     "output_type": "stream",
     "text": [
      "[-2.498331   -0.10689228]\n"
     ]
    }
   ],
   "source": [
    "after_params = controller.predict(np.array([1]))[0]\n",
    "print(after_params)"
   ]
  },
  {
   "cell_type": "code",
   "execution_count": 45,
   "metadata": {},
   "outputs": [],
   "source": [
    "param_dict = {sympy.symbols('K'): K}\n",
    "for i in range(len(control_params)):\n",
    "    param_dict.update([(control_params[i], after_params[i])])\n",
    "resolver = cirq.ParamResolver(param_dict)\n",
    "output_state_vector = cirq.Simulator().simulate(model_circuit, resolver).final_state"
   ]
  },
  {
   "cell_type": "code",
   "execution_count": 46,
   "metadata": {},
   "outputs": [
    {
     "data": {
      "text/plain": [
       "cirq.ParamResolver({sympy.Symbol('K'): 10, sympy.Symbol('gamma0'): -2.498331, sympy.Symbol('beta0'): -0.10689228})"
      ]
     },
     "execution_count": 46,
     "metadata": {},
     "output_type": "execute_result"
    }
   ],
   "source": [
    "resolver"
   ]
  },
  {
   "cell_type": "code",
   "execution_count": 47,
   "metadata": {},
   "outputs": [],
   "source": [
    "simulator = cirq.Simulator()\n",
    "#result = cirq.Simulator().simulate(model_circuit, resolver)\n",
    "model_circuit.append(cirq.measure(*qubits, key = 'm'))\n",
    "results = simulator.run(model_circuit, resolver, repetitions=100)"
   ]
  },
  {
   "cell_type": "code",
   "execution_count": 48,
   "metadata": {},
   "outputs": [
    {
     "name": "stdout",
     "output_type": "stream",
     "text": [
      "001000 : 2 -14.0\n",
      "000000 : 84 -20.0\n",
      "000001 : 6 -14.0\n",
      "001100 : 1 -8.0\n",
      "000010 : 4 -14.0\n",
      "010000 : 2 -14.0\n",
      "000100 : 1 -14.0\n"
     ]
    }
   ],
   "source": [
    "def calc_cost(state, operator):\n",
    "    qubits = [cirq.GridQubit(i, 0) for i in range(len(state))]\n",
    "    test_circuit = cirq.Circuit()\n",
    "    for i in range(len(state)):\n",
    "        if state[i] == '1':\n",
    "            test_circuit.append(cirq.X(qubits[i]))\n",
    "        else:\n",
    "            test_circuit.append(cirq.I(qubits[i]))\n",
    "\n",
    "    output_state_vector = cirq.Simulator().simulate(test_circuit).final_state\n",
    "    qubit_map={qubits[0]: 0, qubits[1]: 1, qubits[2]: 2, qubits[3]: 3, qubits[4]: 4, qubits[5]: 5}\n",
    "    return operator.expectation_from_wavefunction(output_state_vector, qubit_map).real\n",
    "\n",
    "hist = results.histogram(key='m')\n",
    "keys = list(hist.keys())\n",
    "for key in keys:\n",
    "    binary = '{:0=6b}'.format(key)\n",
    "    print(binary, ':',  hist[key], calc_cost(binary, operators[0][0]))"
   ]
  },
  {
   "cell_type": "code",
   "execution_count": 14,
   "metadata": {},
   "outputs": [],
   "source": [
    "q0, q1 = cirq.GridQubit.rect(1, 2) \n",
    "alpha = sympy.Symbol('alpha') # degree of entanglement between q0, q1 \n",
    "parametrized_bell_circuit = cirq.Circuit( \n",
    "   cirq.H(q0), cirq.CNOT(q0, q1) ** alpha)\n",
    "\n",
    "state_layer = tfq.layers.State() \n",
    "alphas = [[0]] # FIXME: #805 \n",
    "state = state_layer(parametrized_bell_circuit, \n",
    "    symbol_names=[alpha], symbol_values=alphas)"
   ]
  },
  {
   "cell_type": "code",
   "execution_count": 18,
   "metadata": {},
   "outputs": [
    {
     "data": {
      "text/plain": [
       "<tf.Tensor: shape=(4,), dtype=complex64, numpy=\n",
       "array([0.70710677-1.2802769e-08j, 0.        +0.0000000e+00j,\n",
       "       0.70710677+3.0908620e-08j, 0.        +0.0000000e+00j],\n",
       "      dtype=complex64)>"
      ]
     },
     "execution_count": 18,
     "metadata": {},
     "output_type": "execute_result"
    }
   ],
   "source": [
    "state[0]"
   ]
  },
  {
   "cell_type": "code",
   "execution_count": 23,
   "metadata": {},
   "outputs": [
    {
     "data": {
      "text/plain": [
       "<tf.Tensor: shape=(1, 16), dtype=complex64, numpy=\n",
       "array([[1.+0.j, 0.+0.j, 0.+0.j, 0.+0.j, 0.+0.j, 0.+0.j, 0.+0.j, 0.+0.j,\n",
       "        0.+0.j, 0.+0.j, 0.+0.j, 0.+0.j, 0.+0.j, 0.+0.j, 0.+0.j, 0.+0.j]],\n",
       "      dtype=complex64)>"
      ]
     },
     "execution_count": 23,
     "metadata": {},
     "output_type": "execute_result"
    }
   ],
   "source": [
    "expected_state = np.zeros(16, dtype=np.complex64)\n",
    "expected_state[0] = 1.\n",
    "tf.constant([expected_state], dtype=tf.complex64)"
   ]
  },
  {
   "cell_type": "code",
   "execution_count": null,
   "metadata": {},
   "outputs": [],
   "source": []
  }
 ],
 "metadata": {
  "kernelspec": {
   "display_name": "Python 3",
   "language": "python",
   "name": "python3"
  },
  "language_info": {
   "codemirror_mode": {
    "name": "ipython",
    "version": 3
   },
   "file_extension": ".py",
   "mimetype": "text/x-python",
   "name": "python",
   "nbconvert_exporter": "python",
   "pygments_lexer": "ipython3",
   "version": "3.6.5"
  }
 },
 "nbformat": 4,
 "nbformat_minor": 4
}
