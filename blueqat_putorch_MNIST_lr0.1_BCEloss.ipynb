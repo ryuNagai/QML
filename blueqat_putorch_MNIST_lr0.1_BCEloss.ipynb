{
 "cells": [
  {
   "cell_type": "markdown",
   "metadata": {},
   "source": [
    "Study of following gist code which convert TensorFlow Quantum's MNIST tutorial to blueqat+pytorch code.  \n",
    "https://gist.github.com/gyu-don/f7af13e32f9b18010c75ffdb825f97f0\n",
    "\n",
    "Some changes was applied.\n",
    "- Using only non-contradictory examples (4613) to train model for time saving.\n",
    "- Using BCE loss function instead of Hinge. It results in faster loss decreasing in early phase of learning.\n",
    "- Learning rate is adjusted (from 0.001 to 0.1). It still works.\n",
    "- Another method is proposed to evaluate prediction for test samples"
   ]
  },
  {
   "cell_type": "code",
   "execution_count": 1,
   "metadata": {},
   "outputs": [],
   "source": [
    "%matplotlib inline\n",
    "import matplotlib.pyplot as plt\n",
    "\n",
    "import numpy as np\n",
    "import seaborn as sns\n",
    "import collections\n",
    "from blueqat import Circuit, BlueqatGlobalSetting\n",
    "from blueqat.pauli import I, X, Y, Z\n",
    "import torch\n",
    "import torchvision"
   ]
  },
  {
   "cell_type": "code",
   "execution_count": 2,
   "metadata": {},
   "outputs": [],
   "source": [
    "import random\n",
    "import time"
   ]
  },
  {
   "cell_type": "code",
   "execution_count": 3,
   "metadata": {},
   "outputs": [],
   "source": [
    "from blueqat import BlueqatGlobalSetting\n",
    "BlueqatGlobalSetting.set_default_backend('numba')"
   ]
  },
  {
   "cell_type": "code",
   "execution_count": 4,
   "metadata": {
    "scrolled": false
   },
   "outputs": [
    {
     "name": "stdout",
     "output_type": "stream",
     "text": [
      "build time:  0.0009379386901855469\n",
      "[ 0.00000000e+00+4.44249759e-01j  1.53392392e-02+0.00000000e+00j\n",
      " -1.78818064e-01+0.00000000e+00j ...  0.00000000e+00+7.11840862e-14j\n",
      "  0.00000000e+00+1.45509910e-13j -3.04772335e-14+0.00000000e+00j]\n",
      "run time:  3.2425038814544678\n"
     ]
    }
   ],
   "source": [
    "params = np.random.rand(32)\n",
    "\n",
    "start = time.time()\n",
    "c = Circuit()\n",
    "c.x[16].h[16]\n",
    "for i in range(16):\n",
    "    c.rxx(params[i])[16, i]\n",
    "for i in range(16):\n",
    "    c.rzz(params[i + 16])[16, i]\n",
    "c.h[16]\n",
    "time1 = time.time()\n",
    "print('build time: ', time1 - start)\n",
    "\n",
    "print(c.run())\n",
    "time2 = time.time()\n",
    "print('run time: ', time2 - time1)"
   ]
  },
  {
   "cell_type": "code",
   "execution_count": 5,
   "metadata": {},
   "outputs": [],
   "source": [
    "train_data = torchvision.datasets.MNIST('./data', train=True, download=True,\n",
    "                               transform=torchvision.transforms.Compose([\n",
    "                                   torchvision.transforms.Resize([4, 4]),\n",
    "                                   torchvision.transforms.ToTensor()]))\n",
    "test_data = torchvision.datasets.MNIST('./data', train=False,\n",
    "                               transform=torchvision.transforms.Compose([\n",
    "                                   torchvision.transforms.Resize([4, 4]),\n",
    "                                   torchvision.transforms.ToTensor()]))"
   ]
  },
  {
   "cell_type": "code",
   "execution_count": 6,
   "metadata": {},
   "outputs": [],
   "source": [
    "train_indices = [i for i, (_, y) in enumerate(train_data) if y in (3, 6)]\n",
    "test_indices = [i for i, (_, y) in enumerate(test_data) if y in (3, 6)]"
   ]
  },
  {
   "cell_type": "code",
   "execution_count": 7,
   "metadata": {},
   "outputs": [],
   "source": [
    "train_data = torch.utils.data.Subset(train_data, train_indices)\n",
    "test_data = torch.utils.data.Subset(test_data, test_indices)"
   ]
  },
  {
   "cell_type": "code",
   "execution_count": 8,
   "metadata": {},
   "outputs": [
    {
     "name": "stdout",
     "output_type": "stream",
     "text": [
      "3\n"
     ]
    },
    {
     "data": {
      "text/plain": [
       "<matplotlib.colorbar.Colorbar at 0x7f1c3759be50>"
      ]
     },
     "execution_count": 8,
     "metadata": {},
     "output_type": "execute_result"
    },
    {
     "data": {
      "image/png": "[encoded data removed]",
      "text/plain": [
       "<Figure size 432x288 with 2 Axes>"
      ]
     },
     "metadata": {
      "needs_background": "light"
     },
     "output_type": "display_data"
    }
   ],
   "source": [
    "print(train_data[0][1])\n",
    "plt.imshow(train_data[0][0][0].numpy(), vmin=0, vmax=1); plt.colorbar()"
   ]
  },
  {
   "cell_type": "code",
   "execution_count": 9,
   "metadata": {},
   "outputs": [],
   "source": [
    "# From TFQ.\n",
    "def remove_contradicting(dataset):\n",
    "    mapping = collections.defaultdict(set)\n",
    "    # Determine the set of labels for each unique image:\n",
    "    for x, y in dataset:\n",
    "        mapping[tuple(x.flatten().numpy())].add(int(y))\n",
    "    new_dataset = []\n",
    "    new_x = []\n",
    "    new_y = []\n",
    "    for x, y in dataset:\n",
    "        labels = mapping[tuple(x.flatten().numpy())]\n",
    "        if len(labels) == 1:\n",
    "            new_x.append(x)\n",
    "            new_y.append(list(labels)[0])\n",
    "            new_dataset.append((x, list(labels)[0]))\n",
    "        else:\n",
    "            # Throw out images that match more than one label.\n",
    "            pass\n",
    "    \n",
    "    num_3 = sum(1 for value in mapping.values() if 3 in value or 1 in value)\n",
    "    num_6 = sum(1 for value in mapping.values() if 6 in value or -1 in value)\n",
    "    num_both = sum(1 for value in mapping.values() if len(value) == 2)\n",
    "\n",
    "    print(\"Number of unique images:\", len(mapping.values()))\n",
    "    print(\"Number of 3s: \", num_3)\n",
    "    print(\"Number of 6s: \", num_6)\n",
    "    print(\"Number of contradictory images: \", num_both)\n",
    "    print()\n",
    "    print(\"Initial number of examples: \", len(dataset))\n",
    "    print(\"Remaining non-contradictory examples: \", len(new_x))\n",
    "    \n",
    "    return new_dataset"
   ]
  },
  {
   "cell_type": "code",
   "execution_count": 10,
   "metadata": {},
   "outputs": [
    {
     "name": "stdout",
     "output_type": "stream",
     "text": [
      "Number of unique images: 12049\n",
      "Number of 3s:  6131\n",
      "Number of 6s:  5918\n",
      "Number of contradictory images:  0\n",
      "\n",
      "Initial number of examples:  12049\n",
      "Remaining non-contradictory examples:  12049\n"
     ]
    }
   ],
   "source": [
    "new_train_data = remove_contradicting(train_data)"
   ]
  },
  {
   "cell_type": "code",
   "execution_count": 11,
   "metadata": {},
   "outputs": [],
   "source": [
    "THRESHOLD = 0.2\n",
    "train_data_bin = torch.utils.data.TensorDataset(torch.cat([x > THRESHOLD for x, _ in train_data]), torch.tensor([1 if y == 3 else -1 for _, y in train_data]))\n",
    "test_data_bin = torch.utils.data.TensorDataset(torch.cat([x > THRESHOLD for x, _ in test_data]), torch.tensor([1 if y == 3 else -1 for _, y in test_data]))"
   ]
  },
  {
   "cell_type": "code",
   "execution_count": 12,
   "metadata": {},
   "outputs": [
    {
     "name": "stdout",
     "output_type": "stream",
     "text": [
      "Number of unique images: 315\n",
      "Number of 3s:  215\n",
      "Number of 6s:  154\n",
      "Number of contradictory images:  54\n",
      "\n",
      "Initial number of examples:  12049\n",
      "Remaining non-contradictory examples:  4613\n"
     ]
    },
    {
     "data": {
      "text/plain": [
       "4613"
      ]
     },
     "execution_count": 12,
     "metadata": {},
     "output_type": "execute_result"
    }
   ],
   "source": [
    "new_train_data_bin = remove_contradicting(train_data_bin)\n",
    "len(new_train_data_bin)"
   ]
  },
  {
   "cell_type": "code",
   "execution_count": 13,
   "metadata": {},
   "outputs": [],
   "source": [
    "def model_circuit(image, params):\n",
    "    bits = tuple(image.detach().reshape(-1).numpy().nonzero()[0])\n",
    "    c = Circuit()\n",
    "    if bits:\n",
    "        c.x[bits]\n",
    "    c.x[16].h[16]\n",
    "    params = tuple(params.detach().numpy())\n",
    "    for i in range(16):\n",
    "        c.rxx(params[i])[16, i]\n",
    "    for i in range(16):\n",
    "        c.rzz(params[i + 16])[16, i]\n",
    "    c.h[16]\n",
    "    return c\n",
    "\n",
    "model_readout = Z[16]"
   ]
  },
  {
   "cell_type": "code",
   "execution_count": 12,
   "metadata": {},
   "outputs": [],
   "source": [
    "# model_circuit(train_data_bin[0][0], torch.ones(32)).run_with_ibmq(returns='draw')"
   ]
  },
  {
   "cell_type": "code",
   "execution_count": 14,
   "metadata": {},
   "outputs": [],
   "source": [
    "class GeneralFunctionWithForwardDifference(torch.autograd.Function):\n",
    "    @staticmethod\n",
    "    def forward(ctx, f, xs, weight):\n",
    "        def f_each(x, weight):\n",
    "            return torch.tensor([f(x, weight) for x in xs], dtype=torch.float64)\n",
    "        ys = f_each(xs, weight)\n",
    "        ctx.save_for_backward(xs, ys, weight)\n",
    "        ctx.f = f_each\n",
    "        return ys\n",
    "        \n",
    "    @staticmethod\n",
    "    def backward(ctx, grad_output):\n",
    "        xs, ys, weight = ctx.saved_tensors\n",
    "        dw = 0.001\n",
    "        diff = []\n",
    "        weight = weight.detach()\n",
    "        for i in range(len(weight)):\n",
    "            weight[i] += dw\n",
    "            diff.append(torch.sum(grad_output * (ctx.f(xs, weight) - ys)))\n",
    "            weight[i] -= dw\n",
    "        diff = torch.tensor(diff) / dw\n",
    "        #print(\"grad_output\", grad_output, \"end\")\n",
    "        #print(diff)\n",
    "        return None, None, diff"
   ]
  },
  {
   "cell_type": "code",
   "execution_count": 15,
   "metadata": {},
   "outputs": [],
   "source": [
    "from blueqat.vqe import sparse_expectation\n",
    "\n",
    "class PQC(torch.nn.Module):\n",
    "    def __init__(self, model_circuit, n_params, n_qubits, readout_operators, initial_circuit=None):\n",
    "        super(PQC, self).__init__()\n",
    "        if initial_circuit is None:\n",
    "            initial_circuit = Circuit()\n",
    "        initial_circuit.make_cache()\n",
    "        self.initial_circuit = initial_circuit\n",
    "        self.model_circuit = model_circuit\n",
    "        self.readout_operators = readout_operators\n",
    "        self.sparses = [op.to_matrix(n_qubits=n_qubits, sparse='csc') for op in readout_operators]\n",
    "        self.weight = torch.nn.parameter.Parameter(torch.Tensor(n_params))\n",
    "        torch.nn.init.uniform_(self.weight, 0.0, 2 * np.pi)\n",
    "        \n",
    "    def forward(self, x):\n",
    "        def f(x, weight):\n",
    "            c = self.initial_circuit.copy()\n",
    "            c += self.model_circuit(x, self.weight)\n",
    "            v = c.run()\n",
    "            return [sparse_expectation(sparse, v) for sparse in self.sparses]\n",
    "        return GeneralFunctionWithForwardDifference.apply(f, x, self.weight)"
   ]
  },
  {
   "cell_type": "code",
   "execution_count": 16,
   "metadata": {},
   "outputs": [],
   "source": [
    "class HingeLoss(torch.nn.Module):\n",
    "    def __init__(self):\n",
    "        super(HingeLoss, self).__init__()\n",
    "        self.loss = torch.nn.MarginRankingLoss(margin=1.)\n",
    "\n",
    "    def forward(self, x, y):\n",
    "        zeros = torch.zeros_like(x)\n",
    "        return self.loss(x, zeros, y)\n",
    "    \n",
    "class BCELoss(torch.nn.Module):\n",
    "    def __init__(self):\n",
    "        super(BCELoss, self).__init__()\n",
    "        self.loss = torch.nn.BCELoss()\n",
    "\n",
    "    def forward(self, x, y):\n",
    "        x = (x + 1.0) / 2.0\n",
    "        y = (y + 1.0) / 2.0\n",
    "        return self.loss(x, y)"
   ]
  },
  {
   "cell_type": "code",
   "execution_count": 17,
   "metadata": {},
   "outputs": [],
   "source": [
    "def accuracy(xs, ys):\n",
    "    xs = xs.detach()\n",
    "    xs = xs > 0.\n",
    "    ys = ys > 0.\n",
    "    return torch.mean((xs == ys).float())"
   ]
  },
  {
   "cell_type": "code",
   "execution_count": 18,
   "metadata": {},
   "outputs": [
    {
     "data": {
      "text/html": [
       "\n",
       "    <div class=\"bk-root\">\n",
       "        <a href=\"https://bokeh.org\" target=\"_blank\" class=\"bk-logo bk-logo-small bk-logo-notebook\"></a>\n",
       "        <span id=\"1001\">Loading BokehJS ...</span>\n",
       "    </div>"
      ]
     },
     "metadata": {},
     "output_type": "display_data"
    },
    {
     "data": {
      "application/javascript": [
       "\n",
       "(function(root) {\n",
       "  function now() {\n",
       "    return new Date();\n",
       "  }\n",
       "\n",
       "  var force = true;\n",
       "\n",
       "  if (typeof root._bokeh_onload_callbacks === \"undefined\" || force === true) {\n",
       "    root._bokeh_onload_callbacks = [];\n",
       "    root._bokeh_is_loading = undefined;\n",
       "  }\n",
       "\n",
       "  var JS_MIME_TYPE = 'application/javascript';\n",
       "  var HTML_MIME_TYPE = 'text/html';\n",
       "  var EXEC_MIME_TYPE = 'application/vnd.bokehjs_exec.v0+json';\n",
       "  var CLASS_NAME = 'output_bokeh rendered_html';\n",
       "\n",
       "  /**\n",
       "   * Render data to the DOM node\n",
       "   */\n",
       "  function render(props, node) {\n",
       "    var script = document.createElement(\"script\");\n",
       "    node.appendChild(script);\n",
       "  }\n",
       "\n",
       "  /**\n",
       "   * Handle when an output is cleared or removed\n",
       "   */\n",
       "  function handleClearOutput(event, handle) {\n",
       "    var cell = handle.cell;\n",
       "\n",
       "    var id = cell.output_area._bokeh_element_id;\n",
       "    var server_id = cell.output_area._bokeh_server_id;\n",
       "    // Clean up Bokeh references\n",
       "    if (id != null && id in Bokeh.index) {\n",
       "      Bokeh.index[id].model.document.clear();\n",
       "      delete Bokeh.index[id];\n",
       "    }\n",
       "\n",
       "    if (server_id !== undefined) {\n",
       "      // Clean up Bokeh references\n",
       "      var cmd = \"from bokeh.io.state import curstate; print(curstate().uuid_to_server['\" + server_id + \"'].get_sessions()[0].document.roots[0]._id)\";\n",
       "      cell.notebook.kernel.execute(cmd, {\n",
       "        iopub: {\n",
       "          output: function(msg) {\n",
       "            var id = msg.content.text.trim();\n",
       "            if (id in Bokeh.index) {\n",
       "              Bokeh.index[id].model.document.clear();\n",
       "              delete Bokeh.index[id];\n",
       "            }\n",
       "          }\n",
       "        }\n",
       "      });\n",
       "      // Destroy server and session\n",
       "      var cmd = \"import bokeh.io.notebook as ion; ion.destroy_server('\" + server_id + \"')\";\n",
       "      cell.notebook.kernel.execute(cmd);\n",
       "    }\n",
       "  }\n",
       "\n",
       "  /**\n",
       "   * Handle when a new output is added\n",
       "   */\n",
       "  function handleAddOutput(event, handle) {\n",
       "    var output_area = handle.output_area;\n",
       "    var output = handle.output;\n",
       "\n",
       "    // limit handleAddOutput to display_data with EXEC_MIME_TYPE content only\n",
       "    if ((output.output_type != \"display_data\") || (!output.data.hasOwnProperty(EXEC_MIME_TYPE))) {\n",
       "      return\n",
       "    }\n",
       "\n",
       "    var toinsert = output_area.element.find(\".\" + CLASS_NAME.split(' ')[0]);\n",
       "\n",
       "    if (output.metadata[EXEC_MIME_TYPE][\"id\"] !== undefined) {\n",
       "      toinsert[toinsert.length - 1].firstChild.textContent = output.data[JS_MIME_TYPE];\n",
       "      // store reference to embed id on output_area\n",
       "      output_area._bokeh_element_id = output.metadata[EXEC_MIME_TYPE][\"id\"];\n",
       "    }\n",
       "    if (output.metadata[EXEC_MIME_TYPE][\"server_id\"] !== undefined) {\n",
       "      var bk_div = document.createElement(\"div\");\n",
       "      bk_div.innerHTML = output.data[HTML_MIME_TYPE];\n",
       "      var script_attrs = bk_div.children[0].attributes;\n",
       "      for (var i = 0; i < script_attrs.length; i++) {\n",
       "        toinsert[toinsert.length - 1].firstChild.setAttribute(script_attrs[i].name, script_attrs[i].value);\n",
       "        toinsert[toinsert.length - 1].firstChild.textContent = bk_div.children[0].textContent\n",
       "      }\n",
       "      // store reference to server id on output_area\n",
       "      output_area._bokeh_server_id = output.metadata[EXEC_MIME_TYPE][\"server_id\"];\n",
       "    }\n",
       "  }\n",
       "\n",
       "  function register_renderer(events, OutputArea) {\n",
       "\n",
       "    function append_mime(data, metadata, element) {\n",
       "      // create a DOM node to render to\n",
       "      var toinsert = this.create_output_subarea(\n",
       "        metadata,\n",
       "        CLASS_NAME,\n",
       "        EXEC_MIME_TYPE\n",
       "      );\n",
       "      this.keyboard_manager.register_events(toinsert);\n",
       "      // Render to node\n",
       "      var props = {data: data, metadata: metadata[EXEC_MIME_TYPE]};\n",
       "      render(props, toinsert[toinsert.length - 1]);\n",
       "      element.append(toinsert);\n",
       "      return toinsert\n",
       "    }\n",
       "\n",
       "    /* Handle when an output is cleared or removed */\n",
       "    events.on('clear_output.CodeCell', handleClearOutput);\n",
       "    events.on('delete.Cell', handleClearOutput);\n",
       "\n",
       "    /* Handle when a new output is added */\n",
       "    events.on('output_added.OutputArea', handleAddOutput);\n",
       "\n",
       "    /**\n",
       "     * Register the mime type and append_mime function with output_area\n",
       "     */\n",
       "    OutputArea.prototype.register_mime_type(EXEC_MIME_TYPE, append_mime, {\n",
       "      /* Is output safe? */\n",
       "      safe: true,\n",
       "      /* Index of renderer in `output_area.display_order` */\n",
       "      index: 0\n",
       "    });\n",
       "  }\n",
       "\n",
       "  // register the mime type if in Jupyter Notebook environment and previously unregistered\n",
       "  if (root.Jupyter !== undefined) {\n",
       "    var events = require('base/js/events');\n",
       "    var OutputArea = require('notebook/js/outputarea').OutputArea;\n",
       "\n",
       "    if (OutputArea.prototype.mime_types().indexOf(EXEC_MIME_TYPE) == -1) {\n",
       "      register_renderer(events, OutputArea);\n",
       "    }\n",
       "  }\n",
       "\n",
       "  \n",
       "  if (typeof (root._bokeh_timeout) === \"undefined\" || force === true) {\n",
       "    root._bokeh_timeout = Date.now() + 5000;\n",
       "    root._bokeh_failed_load = false;\n",
       "  }\n",
       "\n",
       "  var NB_LOAD_WARNING = {'data': {'text/html':\n",
       "     \"<div style='background-color: #fdd'>\\n\"+\n",
       "     \"<p>\\n\"+\n",
       "     \"BokehJS does not appear to have successfully loaded. If loading BokehJS from CDN, this \\n\"+\n",
       "     \"may be due to a slow or bad network connection. Possible fixes:\\n\"+\n",
       "     \"</p>\\n\"+\n",
       "     \"<ul>\\n\"+\n",
       "     \"<li>re-rerun `output_notebook()` to attempt to load from CDN again, or</li>\\n\"+\n",
       "     \"<li>use INLINE resources instead, as so:</li>\\n\"+\n",
       "     \"</ul>\\n\"+\n",
       "     \"<code>\\n\"+\n",
       "     \"from bokeh.resources import INLINE\\n\"+\n",
       "     \"output_notebook(resources=INLINE)\\n\"+\n",
       "     \"</code>\\n\"+\n",
       "     \"</div>\"}};\n",
       "\n",
       "  function display_loaded() {\n",
       "    var el = document.getElementById(\"1001\");\n",
       "    if (el != null) {\n",
       "      el.textContent = \"BokehJS is loading...\";\n",
       "    }\n",
       "    if (root.Bokeh !== undefined) {\n",
       "      if (el != null) {\n",
       "        el.textContent = \"BokehJS \" + root.Bokeh.version + \" successfully loaded.\";\n",
       "      }\n",
       "    } else if (Date.now() < root._bokeh_timeout) {\n",
       "      setTimeout(display_loaded, 100)\n",
       "    }\n",
       "  }\n",
       "\n",
       "\n",
       "  function run_callbacks() {\n",
       "    try {\n",
       "      root._bokeh_onload_callbacks.forEach(function(callback) {\n",
       "        if (callback != null)\n",
       "          callback();\n",
       "      });\n",
       "    } finally {\n",
       "      delete root._bokeh_onload_callbacks\n",
       "    }\n",
       "    console.debug(\"Bokeh: all callbacks have finished\");\n",
       "  }\n",
       "\n",
       "  function load_libs(css_urls, js_urls, callback) {\n",
       "    if (css_urls == null) css_urls = [];\n",
       "    if (js_urls == null) js_urls = [];\n",
       "\n",
       "    root._bokeh_onload_callbacks.push(callback);\n",
       "    if (root._bokeh_is_loading > 0) {\n",
       "      console.debug(\"Bokeh: BokehJS is being loaded, scheduling callback at\", now());\n",
       "      return null;\n",
       "    }\n",
       "    if (js_urls == null || js_urls.length === 0) {\n",
       "      run_callbacks();\n",
       "      return null;\n",
       "    }\n",
       "    console.debug(\"Bokeh: BokehJS not loaded, scheduling load and callback at\", now());\n",
       "    root._bokeh_is_loading = css_urls.length + js_urls.length;\n",
       "\n",
       "    function on_load() {\n",
       "      root._bokeh_is_loading--;\n",
       "      if (root._bokeh_is_loading === 0) {\n",
       "        console.debug(\"Bokeh: all BokehJS libraries/stylesheets loaded\");\n",
       "        run_callbacks()\n",
       "      }\n",
       "    }\n",
       "\n",
       "    function on_error() {\n",
       "      console.error(\"failed to load \" + url);\n",
       "    }\n",
       "\n",
       "    for (var i = 0; i < css_urls.length; i++) {\n",
       "      var url = css_urls[i];\n",
       "      const element = document.createElement(\"link\");\n",
       "      element.onload = on_load;\n",
       "      element.onerror = on_error;\n",
       "      element.rel = \"stylesheet\";\n",
       "      element.type = \"text/css\";\n",
       "      element.href = url;\n",
       "      console.debug(\"Bokeh: injecting link tag for BokehJS stylesheet: \", url);\n",
       "      document.body.appendChild(element);\n",
       "    }\n",
       "\n",
       "    const hashes = {\"https://cdn.bokeh.org/bokeh/release/bokeh-2.1.1.min.js\": \"kLr4fYcqcSpbuI95brIH3vnnYCquzzSxHPU6XGQCIkQRGJwhg0StNbj1eegrHs12\", \"https://cdn.bokeh.org/bokeh/release/bokeh-widgets-2.1.1.min.js\": \"xIGPmVtaOm+z0BqfSOMn4lOR6ciex448GIKG4eE61LsAvmGj48XcMQZtKcE/UXZe\", \"https://cdn.bokeh.org/bokeh/release/bokeh-tables-2.1.1.min.js\": \"Dc9u1wF/0zApGIWoBbH77iWEHtdmkuYWG839Uzmv8y8yBLXebjO9ZnERsde5Ln/P\", \"https://cdn.bokeh.org/bokeh/release/bokeh-gl-2.1.1.min.js\": \"cT9JaBz7GiRXdENrJLZNSC6eMNF3nh3fa5fTF51Svp+ukxPdwcU5kGXGPBgDCa2j\"};\n",
       "\n",
       "    for (var i = 0; i < js_urls.length; i++) {\n",
       "      var url = js_urls[i];\n",
       "      var element = document.createElement('script');\n",
       "      element.onload = on_load;\n",
       "      element.onerror = on_error;\n",
       "      element.async = false;\n",
       "      element.src = url;\n",
       "      if (url in hashes) {\n",
       "        element.crossOrigin = \"anonymous\";\n",
       "        element.integrity = \"sha384-\" + hashes[url];\n",
       "      }\n",
       "      console.debug(\"Bokeh: injecting script tag for BokehJS library: \", url);\n",
       "      document.head.appendChild(element);\n",
       "    }\n",
       "  };\n",
       "\n",
       "  function inject_raw_css(css) {\n",
       "    const element = document.createElement(\"style\");\n",
       "    element.appendChild(document.createTextNode(css));\n",
       "    document.body.appendChild(element);\n",
       "  }\n",
       "\n",
       "  \n",
       "  var js_urls = [\"https://cdn.bokeh.org/bokeh/release/bokeh-2.1.1.min.js\", \"https://cdn.bokeh.org/bokeh/release/bokeh-widgets-2.1.1.min.js\", \"https://cdn.bokeh.org/bokeh/release/bokeh-tables-2.1.1.min.js\", \"https://cdn.bokeh.org/bokeh/release/bokeh-gl-2.1.1.min.js\"];\n",
       "  var css_urls = [];\n",
       "  \n",
       "\n",
       "  var inline_js = [\n",
       "    function(Bokeh) {\n",
       "      Bokeh.set_log_level(\"info\");\n",
       "    },\n",
       "    function(Bokeh) {\n",
       "    \n",
       "    \n",
       "    }\n",
       "  ];\n",
       "\n",
       "  function run_inline_js() {\n",
       "    \n",
       "    if (root.Bokeh !== undefined || force === true) {\n",
       "      \n",
       "    for (var i = 0; i < inline_js.length; i++) {\n",
       "      inline_js[i].call(root, root.Bokeh);\n",
       "    }\n",
       "    if (force === true) {\n",
       "        display_loaded();\n",
       "      }} else if (Date.now() < root._bokeh_timeout) {\n",
       "      setTimeout(run_inline_js, 100);\n",
       "    } else if (!root._bokeh_failed_load) {\n",
       "      console.log(\"Bokeh: BokehJS failed to load within specified timeout.\");\n",
       "      root._bokeh_failed_load = true;\n",
       "    } else if (force !== true) {\n",
       "      var cell = $(document.getElementById(\"1001\")).parents('.cell').data().cell;\n",
       "      cell.output_area.append_execute_result(NB_LOAD_WARNING)\n",
       "    }\n",
       "\n",
       "  }\n",
       "\n",
       "  if (root._bokeh_is_loading === 0) {\n",
       "    console.debug(\"Bokeh: BokehJS loaded, going straight to plotting\");\n",
       "    run_inline_js();\n",
       "  } else {\n",
       "    load_libs(css_urls, js_urls, function() {\n",
       "      console.debug(\"Bokeh: BokehJS plotting callback run at\", now());\n",
       "      run_inline_js();\n",
       "    });\n",
       "  }\n",
       "}(window));"
      ],
      "application/vnd.bokehjs_load.v0+json": "\n(function(root) {\n  function now() {\n    return new Date();\n  }\n\n  var force = true;\n\n  if (typeof root._bokeh_onload_callbacks === \"undefined\" || force === true) {\n    root._bokeh_onload_callbacks = [];\n    root._bokeh_is_loading = undefined;\n  }\n\n  \n\n  \n  if (typeof (root._bokeh_timeout) === \"undefined\" || force === true) {\n    root._bokeh_timeout = Date.now() + 5000;\n    root._bokeh_failed_load = false;\n  }\n\n  var NB_LOAD_WARNING = {'data': {'text/html':\n     \"<div style='background-color: #fdd'>\\n\"+\n     \"<p>\\n\"+\n     \"BokehJS does not appear to have successfully loaded. If loading BokehJS from CDN, this \\n\"+\n     \"may be due to a slow or bad network connection. Possible fixes:\\n\"+\n     \"</p>\\n\"+\n     \"<ul>\\n\"+\n     \"<li>re-rerun `output_notebook()` to attempt to load from CDN again, or</li>\\n\"+\n     \"<li>use INLINE resources instead, as so:</li>\\n\"+\n     \"</ul>\\n\"+\n     \"<code>\\n\"+\n     \"from bokeh.resources import INLINE\\n\"+\n     \"output_notebook(resources=INLINE)\\n\"+\n     \"</code>\\n\"+\n     \"</div>\"}};\n\n  function display_loaded() {\n    var el = document.getElementById(\"1001\");\n    if (el != null) {\n      el.textContent = \"BokehJS is loading...\";\n    }\n    if (root.Bokeh !== undefined) {\n      if (el != null) {\n        el.textContent = \"BokehJS \" + root.Bokeh.version + \" successfully loaded.\";\n      }\n    } else if (Date.now() < root._bokeh_timeout) {\n      setTimeout(display_loaded, 100)\n    }\n  }\n\n\n  function run_callbacks() {\n    try {\n      root._bokeh_onload_callbacks.forEach(function(callback) {\n        if (callback != null)\n          callback();\n      });\n    } finally {\n      delete root._bokeh_onload_callbacks\n    }\n    console.debug(\"Bokeh: all callbacks have finished\");\n  }\n\n  function load_libs(css_urls, js_urls, callback) {\n    if (css_urls == null) css_urls = [];\n    if (js_urls == null) js_urls = [];\n\n    root._bokeh_onload_callbacks.push(callback);\n    if (root._bokeh_is_loading > 0) {\n      console.debug(\"Bokeh: BokehJS is being loaded, scheduling callback at\", now());\n      return null;\n    }\n    if (js_urls == null || js_urls.length === 0) {\n      run_callbacks();\n      return null;\n    }\n    console.debug(\"Bokeh: BokehJS not loaded, scheduling load and callback at\", now());\n    root._bokeh_is_loading = css_urls.length + js_urls.length;\n\n    function on_load() {\n      root._bokeh_is_loading--;\n      if (root._bokeh_is_loading === 0) {\n        console.debug(\"Bokeh: all BokehJS libraries/stylesheets loaded\");\n        run_callbacks()\n      }\n    }\n\n    function on_error() {\n      console.error(\"failed to load \" + url);\n    }\n\n    for (var i = 0; i < css_urls.length; i++) {\n      var url = css_urls[i];\n      const element = document.createElement(\"link\");\n      element.onload = on_load;\n      element.onerror = on_error;\n      element.rel = \"stylesheet\";\n      element.type = \"text/css\";\n      element.href = url;\n      console.debug(\"Bokeh: injecting link tag for BokehJS stylesheet: \", url);\n      document.body.appendChild(element);\n    }\n\n    const hashes = {\"https://cdn.bokeh.org/bokeh/release/bokeh-2.1.1.min.js\": \"kLr4fYcqcSpbuI95brIH3vnnYCquzzSxHPU6XGQCIkQRGJwhg0StNbj1eegrHs12\", \"https://cdn.bokeh.org/bokeh/release/bokeh-widgets-2.1.1.min.js\": \"xIGPmVtaOm+z0BqfSOMn4lOR6ciex448GIKG4eE61LsAvmGj48XcMQZtKcE/UXZe\", \"https://cdn.bokeh.org/bokeh/release/bokeh-tables-2.1.1.min.js\": \"Dc9u1wF/0zApGIWoBbH77iWEHtdmkuYWG839Uzmv8y8yBLXebjO9ZnERsde5Ln/P\", \"https://cdn.bokeh.org/bokeh/release/bokeh-gl-2.1.1.min.js\": \"cT9JaBz7GiRXdENrJLZNSC6eMNF3nh3fa5fTF51Svp+ukxPdwcU5kGXGPBgDCa2j\"};\n\n    for (var i = 0; i < js_urls.length; i++) {\n      var url = js_urls[i];\n      var element = document.createElement('script');\n      element.onload = on_load;\n      element.onerror = on_error;\n      element.async = false;\n      element.src = url;\n      if (url in hashes) {\n        element.crossOrigin = \"anonymous\";\n        element.integrity = \"sha384-\" + hashes[url];\n      }\n      console.debug(\"Bokeh: injecting script tag for BokehJS library: \", url);\n      document.head.appendChild(element);\n    }\n  };\n\n  function inject_raw_css(css) {\n    const element = document.createElement(\"style\");\n    element.appendChild(document.createTextNode(css));\n    document.body.appendChild(element);\n  }\n\n  \n  var js_urls = [\"https://cdn.bokeh.org/bokeh/release/bokeh-2.1.1.min.js\", \"https://cdn.bokeh.org/bokeh/release/bokeh-widgets-2.1.1.min.js\", \"https://cdn.bokeh.org/bokeh/release/bokeh-tables-2.1.1.min.js\", \"https://cdn.bokeh.org/bokeh/release/bokeh-gl-2.1.1.min.js\"];\n  var css_urls = [];\n  \n\n  var inline_js = [\n    function(Bokeh) {\n      Bokeh.set_log_level(\"info\");\n    },\n    function(Bokeh) {\n    \n    \n    }\n  ];\n\n  function run_inline_js() {\n    \n    if (root.Bokeh !== undefined || force === true) {\n      \n    for (var i = 0; i < inline_js.length; i++) {\n      inline_js[i].call(root, root.Bokeh);\n    }\n    if (force === true) {\n        display_loaded();\n      }} else if (Date.now() < root._bokeh_timeout) {\n      setTimeout(run_inline_js, 100);\n    } else if (!root._bokeh_failed_load) {\n      console.log(\"Bokeh: BokehJS failed to load within specified timeout.\");\n      root._bokeh_failed_load = true;\n    } else if (force !== true) {\n      var cell = $(document.getElementById(\"1001\")).parents('.cell').data().cell;\n      cell.output_area.append_execute_result(NB_LOAD_WARNING)\n    }\n\n  }\n\n  if (root._bokeh_is_loading === 0) {\n    console.debug(\"Bokeh: BokehJS loaded, going straight to plotting\");\n    run_inline_js();\n  } else {\n    load_libs(css_urls, js_urls, function() {\n      console.debug(\"Bokeh: BokehJS plotting callback run at\", now());\n      run_inline_js();\n    });\n  }\n}(window));"
     },
     "metadata": {},
     "output_type": "display_data"
    }
   ],
   "source": [
    "import bokeh\n",
    "import bokeh.io\n",
    "from bokeh.models import ColumnDataSource\n",
    "from bokeh.io import push_notebook, show, output_notebook\n",
    "from bokeh.plotting import figure\n",
    "try:\n",
    "    from bokeh.io import gridplot\n",
    "except ImportError:\n",
    "    from bokeh.layouts import gridplot\n",
    "\n",
    "output_notebook()"
   ]
  },
  {
   "cell_type": "code",
   "execution_count": 21,
   "metadata": {},
   "outputs": [
    {
     "data": {
      "text/html": [
       "\n",
       "\n",
       "\n",
       "\n",
       "\n",
       "\n",
       "  <div class=\"bk-root\" id=\"921a2d3c-2728-49e9-9178-ea6b44ab1b89\" data-root-id=\"1131\"></div>\n"
      ]
     },
     "metadata": {},
     "output_type": "display_data"
    },
    {
     "data": {
      "application/javascript": [
       "(function(root) {\n",
       "  function embed_document(root) {\n",
       "    \n",
       "  var docs_json = {\"3c42406a-5248-484e-82d5-f6253952b413\":{\"roots\":{\"references\":[{\"attributes\":{\"below\":[{\"id\":\"1142\"}],\"center\":[{\"id\":\"1145\"},{\"id\":\"1149\"}],\"left\":[{\"id\":\"1146\"}],\"plot_height\":300,\"plot_width\":350,\"renderers\":[{\"id\":\"1167\"},{\"id\":\"1172\"}],\"title\":{\"id\":\"1132\"},\"toolbar\":{\"id\":\"1157\"},\"x_range\":{\"id\":\"1134\"},\"x_scale\":{\"id\":\"1138\"},\"y_range\":{\"id\":\"1136\"},\"y_scale\":{\"id\":\"1140\"}},\"id\":\"1131\",\"subtype\":\"Figure\",\"type\":\"Plot\"},{\"attributes\":{\"active_drag\":\"auto\",\"active_inspect\":\"auto\",\"active_multi\":null,\"active_scroll\":\"auto\",\"active_tap\":\"auto\",\"tools\":[{\"id\":\"1150\"},{\"id\":\"1151\"},{\"id\":\"1152\"},{\"id\":\"1153\"},{\"id\":\"1154\"},{\"id\":\"1155\"}]},\"id\":\"1157\",\"type\":\"Toolbar\"},{\"attributes\":{\"data\":{\"x\":[],\"y\":[]},\"selected\":{\"id\":\"1191\"},\"selection_policy\":{\"id\":\"1192\"}},\"id\":\"1169\",\"type\":\"ColumnDataSource\"},{\"attributes\":{},\"id\":\"1187\",\"type\":\"BasicTickFormatter\"},{\"attributes\":{\"bottom_units\":\"screen\",\"fill_alpha\":0.5,\"fill_color\":\"lightgrey\",\"left_units\":\"screen\",\"level\":\"overlay\",\"line_alpha\":1.0,\"line_color\":\"black\",\"line_dash\":[4,4],\"line_width\":2,\"right_units\":\"screen\",\"top_units\":\"screen\"},\"id\":\"1156\",\"type\":\"BoxAnnotation\"},{\"attributes\":{\"line_color\":\"blue\",\"line_width\":2,\"x\":{\"field\":\"x\"},\"y\":{\"field\":\"y\"}},\"id\":\"1170\",\"type\":\"Line\"},{\"attributes\":{\"axis\":{\"id\":\"1146\"},\"dimension\":1,\"ticker\":null},\"id\":\"1149\",\"type\":\"Grid\"},{\"attributes\":{},\"id\":\"1190\",\"type\":\"UnionRenderers\"},{\"attributes\":{\"data_source\":{\"id\":\"1164\"},\"glyph\":{\"id\":\"1165\"},\"hover_glyph\":null,\"muted_glyph\":null,\"nonselection_glyph\":{\"id\":\"1166\"},\"selection_glyph\":null,\"view\":{\"id\":\"1168\"}},\"id\":\"1167\",\"type\":\"GlyphRenderer\"},{\"attributes\":{},\"id\":\"1151\",\"type\":\"WheelZoomTool\"},{\"attributes\":{\"line_alpha\":0.1,\"line_color\":\"blue\",\"line_width\":2,\"x\":{\"field\":\"x\"},\"y\":{\"field\":\"y\"}},\"id\":\"1171\",\"type\":\"Line\"},{\"attributes\":{\"line_alpha\":0.1,\"line_color\":\"red\",\"line_width\":2,\"x\":{\"field\":\"x\"},\"y\":{\"field\":\"y\"}},\"id\":\"1166\",\"type\":\"Line\"},{\"attributes\":{},\"id\":\"1153\",\"type\":\"SaveTool\"},{\"attributes\":{\"formatter\":{\"id\":\"1187\"},\"ticker\":{\"id\":\"1147\"}},\"id\":\"1146\",\"type\":\"LinearAxis\"},{\"attributes\":{},\"id\":\"1189\",\"type\":\"Selection\"},{\"attributes\":{\"source\":{\"id\":\"1164\"}},\"id\":\"1168\",\"type\":\"CDSView\"},{\"attributes\":{},\"id\":\"1138\",\"type\":\"LinearScale\"},{\"attributes\":{},\"id\":\"1155\",\"type\":\"HelpTool\"},{\"attributes\":{},\"id\":\"1191\",\"type\":\"Selection\"},{\"attributes\":{\"text\":\"Loss\"},\"id\":\"1132\",\"type\":\"Title\"},{\"attributes\":{\"source\":{\"id\":\"1169\"}},\"id\":\"1173\",\"type\":\"CDSView\"},{\"attributes\":{},\"id\":\"1154\",\"type\":\"ResetTool\"},{\"attributes\":{\"axis\":{\"id\":\"1142\"},\"ticker\":null},\"id\":\"1145\",\"type\":\"Grid\"},{\"attributes\":{\"data\":{\"x\":[],\"y\":[]},\"selected\":{\"id\":\"1189\"},\"selection_policy\":{\"id\":\"1190\"}},\"id\":\"1164\",\"type\":\"ColumnDataSource\"},{\"attributes\":{},\"id\":\"1140\",\"type\":\"LinearScale\"},{\"attributes\":{},\"id\":\"1192\",\"type\":\"UnionRenderers\"},{\"attributes\":{\"end\":146,\"start\":-1},\"id\":\"1134\",\"type\":\"Range1d\"},{\"attributes\":{},\"id\":\"1185\",\"type\":\"BasicTickFormatter\"},{\"attributes\":{},\"id\":\"1147\",\"type\":\"BasicTicker\"},{\"attributes\":{},\"id\":\"1143\",\"type\":\"BasicTicker\"},{\"attributes\":{\"formatter\":{\"id\":\"1185\"},\"ticker\":{\"id\":\"1143\"}},\"id\":\"1142\",\"type\":\"LinearAxis\"},{\"attributes\":{},\"id\":\"1150\",\"type\":\"PanTool\"},{\"attributes\":{\"overlay\":{\"id\":\"1156\"}},\"id\":\"1152\",\"type\":\"BoxZoomTool\"},{\"attributes\":{\"line_color\":\"red\",\"line_width\":2,\"x\":{\"field\":\"x\"},\"y\":{\"field\":\"y\"}},\"id\":\"1165\",\"type\":\"Line\"},{\"attributes\":{},\"id\":\"1136\",\"type\":\"Range1d\"},{\"attributes\":{\"data_source\":{\"id\":\"1169\"},\"glyph\":{\"id\":\"1170\"},\"hover_glyph\":null,\"muted_glyph\":null,\"nonselection_glyph\":{\"id\":\"1171\"},\"selection_glyph\":null,\"view\":{\"id\":\"1173\"}},\"id\":\"1172\",\"type\":\"GlyphRenderer\"}],\"root_ids\":[\"1131\"]},\"title\":\"Bokeh Application\",\"version\":\"2.1.1\"}};\n",
       "  var render_items = [{\"docid\":\"3c42406a-5248-484e-82d5-f6253952b413\",\"notebook_comms_target\":\"1194\",\"root_ids\":[\"1131\"],\"roots\":{\"1131\":\"921a2d3c-2728-49e9-9178-ea6b44ab1b89\"}}];\n",
       "  root.Bokeh.embed.embed_items_notebook(docs_json, render_items);\n",
       "\n",
       "  }\n",
       "  if (root.Bokeh !== undefined) {\n",
       "    embed_document(root);\n",
       "  } else {\n",
       "    var attempts = 0;\n",
       "    var timer = setInterval(function(root) {\n",
       "      if (root.Bokeh !== undefined) {\n",
       "        clearInterval(timer);\n",
       "        embed_document(root);\n",
       "      } else {\n",
       "        attempts++;\n",
       "        if (attempts > 100) {\n",
       "          clearInterval(timer);\n",
       "          console.log(\"Bokeh: ERROR: Unable to run BokehJS code because BokehJS library is missing\");\n",
       "        }\n",
       "      }\n",
       "    }, 10, root)\n",
       "  }\n",
       "})(window);"
      ],
      "application/vnd.bokehjs_exec.v0+json": ""
     },
     "metadata": {
      "application/vnd.bokehjs_exec.v0+json": {
       "id": "1131"
      }
     },
     "output_type": "display_data"
    }
   ],
   "source": [
    "epochs = 1\n",
    "batch_size = 32\n",
    "x_range_max = len(new_train_data_bin) // batch_size + 2\n",
    "\n",
    "p = figure(title=\"Loss\", plot_height=300, plot_width=350, y_range=(0, 1.0), x_range=(-1, x_range_max))\n",
    "r_train = p.line([], [], color=\"red\", line_width=2)\n",
    "r_test = p.line([], [], color=\"blue\", line_width=2)\n",
    "show(p, notebook_handle=True) \n",
    "\n",
    "def update(epoch, d1, d2):\n",
    "    print(epoch, d1, d2)\n",
    "    r_train.data_source.stream({'x': [epoch], 'y': [d1]})\n",
    "    r_test.data_source.stream({'x': [epoch], 'y': [d2]})\n",
    "    push_notebook()"
   ]
  },
  {
   "cell_type": "markdown",
   "metadata": {},
   "source": [
    "Learning rate is changed to 0.1.  \n",
    "Loss function is BCE."
   ]
  },
  {
   "cell_type": "code",
   "execution_count": 22,
   "metadata": {},
   "outputs": [
    {
     "name": "stdout",
     "output_type": "stream",
     "text": [
      "0 0.6927420496940613 0.625\n",
      "1 0.6905896067619324 0.5625\n",
      "2 0.6789793372154236 0.8125\n",
      "3 0.6788825988769531 0.6875\n",
      "4 0.6772722005844116 0.59375\n",
      "5 0.6331669092178345 0.875\n",
      "6 0.6059089303016663 0.71875\n",
      "7 0.6039522290229797 0.59375\n",
      "8 0.5224955081939697 0.75\n",
      "9 0.5370877981185913 0.78125\n",
      "10 0.6205060482025146 0.6875\n",
      "11 0.4043888747692108 0.84375\n",
      "12 0.4880523979663849 0.75\n",
      "13 0.3730306029319763 0.8125\n",
      "14 0.3463984727859497 0.9375\n",
      "15 0.3339196443557739 0.875\n",
      "16 0.21752774715423584 1.0\n",
      "17 0.34162622690200806 0.875\n",
      "18 0.31159308552742004 0.9375\n",
      "19 0.3855045735836029 0.84375\n",
      "20 0.19283664226531982 0.96875\n",
      "21 0.22696363925933838 0.9375\n",
      "22 0.2329559326171875 0.9375\n",
      "23 0.30140742659568787 0.875\n",
      "24 0.24434176087379456 0.8125\n",
      "25 0.347586989402771 0.84375\n",
      "26 0.3446471095085144 0.84375\n",
      "27 0.3303515613079071 0.875\n",
      "28 0.19201654195785522 0.9375\n",
      "29 0.19665966928005219 0.9375\n",
      "30 0.31803837418556213 0.8125\n",
      "31 0.4038929045200348 0.875\n",
      "32 0.12776805460453033 0.96875\n",
      "33 0.20886395871639252 0.9375\n",
      "34 0.28240111470222473 0.90625\n",
      "35 0.3032190501689911 0.90625\n",
      "36 0.2575663626194 0.875\n",
      "37 0.37500452995300293 0.875\n",
      "38 0.13130658864974976 0.96875\n",
      "39 0.20585018396377563 0.9375\n",
      "40 0.1470310091972351 0.96875\n",
      "41 0.1288953572511673 0.9375\n",
      "42 0.19936375319957733 0.96875\n",
      "43 0.21852858364582062 0.9375\n",
      "44 0.13229413330554962 0.96875\n",
      "45 0.06767736375331879 1.0\n",
      "46 0.17663389444351196 0.90625\n",
      "47 0.1491526961326599 0.96875\n",
      "48 0.09574321657419205 1.0\n",
      "49 0.17316631972789764 0.9375\n",
      "50 0.48105940222740173 0.8125\n",
      "51 0.18205803632736206 0.96875\n",
      "52 0.19823768734931946 0.9375\n",
      "53 0.20128609240055084 0.96875\n",
      "54 0.2517169713973999 0.9375\n",
      "55 0.22756411135196686 0.96875\n",
      "56 0.1423112004995346 0.96875\n",
      "57 0.20984704792499542 0.9375\n",
      "58 0.26421424746513367 0.90625\n",
      "59 0.22128035128116608 0.9375\n",
      "60 0.0835283026099205 1.0\n",
      "61 0.18981830775737762 0.90625\n",
      "62 0.12672701478004456 0.96875\n",
      "63 0.14202693104743958 0.96875\n",
      "64 0.1064765602350235 1.0\n",
      "65 0.09452491998672485 0.96875\n",
      "66 0.19416290521621704 0.96875\n",
      "67 0.06693198531866074 1.0\n",
      "68 0.2646675109863281 0.84375\n",
      "69 0.10395611077547073 0.96875\n",
      "70 0.10758499801158905 0.96875\n",
      "71 0.09301485866308212 1.0\n",
      "72 0.10049301385879517 0.96875\n",
      "73 0.08797119557857513 1.0\n",
      "74 0.11273926496505737 1.0\n",
      "75 0.12043442577123642 0.96875\n",
      "76 0.10462124645709991 0.96875\n",
      "77 0.1367175430059433 0.9375\n",
      "78 0.1097450852394104 0.96875\n",
      "79 0.07086221873760223 1.0\n",
      "80 0.1142105758190155 0.96875\n",
      "81 0.17479023337364197 0.9375\n",
      "82 0.12468483299016953 0.96875\n",
      "83 0.19934336841106415 0.875\n",
      "84 0.1279761791229248 0.9375\n",
      "85 0.03776536136865616 1.0\n",
      "86 0.08423320949077606 1.0\n",
      "87 0.08553249388933182 0.96875\n",
      "88 0.08684015274047852 0.96875\n",
      "89 0.08785206079483032 1.0\n",
      "90 0.13155971467494965 0.9375\n",
      "91 0.0917874127626419 0.96875\n",
      "92 0.10096392780542374 0.96875\n",
      "93 0.0995587408542633 0.96875\n",
      "94 0.13212049007415771 0.96875\n",
      "95 0.11043035984039307 1.0\n",
      "96 0.1255672425031662 0.96875\n",
      "97 0.06184716522693634 1.0\n",
      "98 0.0934549868106842 1.0\n",
      "99 0.1332470178604126 0.9375\n",
      "100 0.12806004285812378 0.9375\n",
      "101 0.05997375398874283 1.0\n",
      "102 0.10807181894779205 0.96875\n",
      "103 0.08269433677196503 1.0\n",
      "104 0.10785627365112305 1.0\n",
      "105 0.08743230998516083 0.9375\n",
      "106 0.06907494366168976 1.0\n",
      "107 0.13761821389198303 0.9375\n",
      "108 0.055062513798475266 1.0\n",
      "109 0.13842535018920898 0.9375\n",
      "110 0.0940045416355133 0.96875\n",
      "111 0.1436581164598465 0.96875\n",
      "112 0.10660390555858612 1.0\n",
      "113 0.0983748808503151 1.0\n",
      "114 0.0749516487121582 1.0\n",
      "115 0.1237974613904953 1.0\n",
      "116 0.06814615428447723 1.0\n",
      "117 0.1051957756280899 1.0\n",
      "118 0.11012133955955505 0.96875\n",
      "119 0.11579395830631256 0.96875\n",
      "120 0.07442063838243484 1.0\n",
      "121 0.11987627297639847 0.96875\n",
      "122 0.12128838151693344 0.96875\n",
      "123 0.0620744526386261 1.0\n",
      "124 0.08343028277158737 0.96875\n",
      "125 0.042861998081207275 1.0\n",
      "126 0.06460383534431458 1.0\n",
      "127 0.10717826336622238 0.96875\n",
      "128 0.04573844373226166 1.0\n",
      "129 0.033860255032777786 1.0\n",
      "130 0.12107502669095993 0.90625\n",
      "131 0.10043684393167496 0.96875\n",
      "132 0.08048136532306671 1.0\n",
      "133 0.08721745014190674 0.96875\n",
      "134 0.05409557372331619 1.0\n",
      "135 0.19374197721481323 0.9375\n",
      "136 0.09337825328111649 1.0\n",
      "137 0.06741583347320557 1.0\n",
      "138 0.09123247116804123 0.96875\n",
      "139 0.06893080472946167 0.96875\n",
      "140 0.08577537536621094 1.0\n",
      "141 0.08928229659795761 1.0\n",
      "142 0.07265080511569977 1.0\n",
      "143 0.10766627639532089 0.96875\n",
      "144 0.02243732288479805 1.0\n",
      "0 0.19284279644489288 0.45059752464294434\n"
     ]
    }
   ],
   "source": [
    "from blueqat import BlueqatGlobalSetting\n",
    "BlueqatGlobalSetting.set_default_backend('numba')\n",
    "\n",
    "model = PQC(model_circuit, 32, 17, [model_readout])\n",
    "optimizer = torch.optim.Adam(model.parameters(), lr=0.1)\n",
    "criterion = BCELoss()\n",
    "\n",
    "train_loader = torch.utils.data.DataLoader(new_train_data_bin, batch_size=batch_size, shuffle=True)\n",
    "test_loader = torch.utils.data.DataLoader(test_data_bin)\n",
    "\n",
    "losshist_train = []; losshist_test = []\n",
    "i = 0\n",
    "for epoch in range(epochs):\n",
    "    model.train()\n",
    "    losses = []\n",
    "    for im, label in train_loader:\n",
    "        out = model(im)\n",
    "        out = out.reshape(-1).float()\n",
    "        loss = criterion(out, label)\n",
    "        losses.append(loss.detach())\n",
    "        optimizer.zero_grad()\n",
    "        loss.backward()\n",
    "        optimizer.step()\n",
    "        acc = accuracy(out, label)\n",
    "        update(i, float(torch.mean(loss.detach()).item()), float(acc.item()))\n",
    "        i += 1\n",
    "    losshist_train.append(torch.mean(torch.tensor(losses)).item())\n",
    "    \n",
    "    model.eval()\n",
    "    losses = []\n",
    "    for im, label in test_loader:\n",
    "        out = model(im)\n",
    "        out = out.reshape(-1).float()\n",
    "        loss = criterion(out, label)\n",
    "        losses.append(loss.detach())\n",
    "    losshist_test.append(torch.mean(torch.tensor(losses)).item())\n",
    "    \n",
    "    update(epoch, losshist_train[-1], losshist_test[-1])"
   ]
  },
  {
   "cell_type": "code",
   "execution_count": 23,
   "metadata": {},
   "outputs": [
    {
     "data": {
      "text/plain": [
       "<matplotlib.legend.Legend at 0x7f1bfd861a00>"
      ]
     },
     "execution_count": 23,
     "metadata": {},
     "output_type": "execute_result"
    },
    {
     "data": {
      "image/png": "[encoded data removed]",
      "text/plain": [
       "<Figure size 432x288 with 1 Axes>"
      ]
     },
     "metadata": {
      "needs_background": "light"
     },
     "output_type": "display_data"
    }
   ],
   "source": [
    "%matplotlib inline\n",
    "import matplotlib.pyplot as plt\n",
    "plt.plot(losshist_train, label='train')\n",
    "plt.plot(losshist_test, label='test')\n",
    "plt.legend()"
   ]
  },
  {
   "cell_type": "code",
   "execution_count": 26,
   "metadata": {},
   "outputs": [],
   "source": [
    "torch.save(model.state_dict(), 'mnist_lr0.1_BCE.pytorch')"
   ]
  },
  {
   "cell_type": "code",
   "execution_count": 25,
   "metadata": {},
   "outputs": [
    {
     "name": "stdout",
     "output_type": "stream",
     "text": [
      "Test result: 1617/1968 (82.16463414634147 %)\n"
     ]
    }
   ],
   "source": [
    "count = 0; tot = 0\n",
    "for im, label in test_loader:\n",
    "    model.eval()\n",
    "    out = model(im)\n",
    "    if (out.item() > 0.5) == (label.item() > 0.5):\n",
    "        count += 1\n",
    "    tot += 1\n",
    "print(f'Test result: {count}/{tot} ({100 * count / tot} %)')"
   ]
  },
  {
   "cell_type": "markdown",
   "metadata": {},
   "source": [
    "## Another test\n",
    "\n",
    "In above test, results such that {out=0.2, label=-1} is judged as validly predicted.  \n",
    "However it should be judged as incorrect, so I made another test function."
   ]
  },
  {
   "cell_type": "code",
   "execution_count": 30,
   "metadata": {},
   "outputs": [
    {
     "name": "stdout",
     "output_type": "stream",
     "text": [
      "Test result: 1411/1968 (71.69715447154472 %)\n"
     ]
    }
   ],
   "source": [
    "count = 0; tot = 0\n",
    "THRESHOLD = 0.\n",
    "for im, label in test_loader:\n",
    "    model.eval()\n",
    "    out = model(im)\n",
    "    if (out.item() > THRESHOLD) and (label.item() > THRESHOLD):\n",
    "        count += 1\n",
    "    elif (out.item() < -THRESHOLD) and (label.item() < -THRESHOLD):\n",
    "        count += 1\n",
    "    tot += 1\n",
    "print(f'Test result: {count}/{tot} ({100 * count / tot} %)')"
   ]
  },
  {
   "cell_type": "markdown",
   "metadata": {},
   "source": [
    "### Classical NN"
   ]
  },
  {
   "cell_type": "code",
   "execution_count": null,
   "metadata": {},
   "outputs": [],
   "source": [
    "relu = torch.nn.functional.relu\n",
    "tanh = torch.nn.functional.tanh\n",
    "class ClassicalModel(torch.nn.Module):\n",
    "    def __init__(self):\n",
    "        super().__init__()\n",
    "        self.fc1 = torch.nn.Linear(16, 8)\n",
    "        self.fc2 = torch.nn.Linear(8, 4)\n",
    "        self.fc3 = torch.nn.Linear(4, 1)\n",
    "    def forward(self, x):\n",
    "        x = x.reshape(-1, 16)\n",
    "        x = relu(self.fc1(x.float()))\n",
    "        x = relu(self.fc2(x))\n",
    "        x = tanh(self.fc3(x))\n",
    "        return x"
   ]
  },
  {
   "cell_type": "code",
   "execution_count": null,
   "metadata": {},
   "outputs": [],
   "source": [
    "epochs = 3\n",
    "c_batch_size = 32\n",
    "x_range_max = epochs + 1\n",
    "\n",
    "p = figure(title=\"Loss\", plot_height=300, plot_width=350, y_range=(0, 1.0), x_range=(-1, x_range_max))\n",
    "r_train = p.line([], [], color=\"red\", line_width=2)\n",
    "r_test = p.line([], [], color=\"blue\", line_width=2)\n",
    "show(p, notebook_handle=True) \n",
    "\n",
    "def update(epoch, d1, d2):\n",
    "    print(epoch, d1, d2)\n",
    "    r_train.data_source.stream({'x': [epoch], 'y': [d1]})\n",
    "    r_test.data_source.stream({'x': [epoch], 'y': [d2]})\n",
    "    push_notebook()"
   ]
  },
  {
   "cell_type": "code",
   "execution_count": null,
   "metadata": {},
   "outputs": [],
   "source": [
    "relu = torch.nn.functional.relu\n",
    "tanh = torch.nn.functional.tanh\n",
    "class TinyClassicalModel(torch.nn.Module):\n",
    "    def __init__(self):\n",
    "        super().__init__()\n",
    "        self.fc1 = torch.nn.Linear(16, 2)\n",
    "        self.fc2 = torch.nn.Linear(2, 1)\n",
    "    def forward(self, x):\n",
    "        x = x.reshape(-1, 16)\n",
    "        x = relu(self.fc1(x.float()))\n",
    "        x = tanh(self.fc2(x.float()))\n",
    "        return x"
   ]
  },
  {
   "cell_type": "code",
   "execution_count": null,
   "metadata": {},
   "outputs": [],
   "source": [
    "tiny_model = TinyClassicalModel()\n",
    "sum(p.numel() for p in tiny_model.parameters())"
   ]
  },
  {
   "cell_type": "code",
   "execution_count": null,
   "metadata": {},
   "outputs": [],
   "source": [
    "epochs = 3\n",
    "c_batch_size = 32\n",
    "x_range_max = epochs + 1\n",
    "\n",
    "p = figure(title=\"Loss\", plot_height=300, plot_width=350, y_range=(0, 1.0), x_range=(-1, x_range_max))\n",
    "r_train = p.line([], [], color=\"red\", line_width=2)\n",
    "r_test = p.line([], [], color=\"blue\", line_width=2)\n",
    "show(p, notebook_handle=True) \n",
    "\n",
    "def update(epoch, d1, d2):\n",
    "    print(epoch, d1, d2)\n",
    "    r_train.data_source.stream({'x': [epoch], 'y': [d1]})\n",
    "    r_test.data_source.stream({'x': [epoch], 'y': [d2]})\n",
    "    push_notebook()"
   ]
  },
  {
   "cell_type": "code",
   "execution_count": null,
   "metadata": {},
   "outputs": [],
   "source": [
    "optimizer = torch.optim.Adam(tiny_model.parameters(), lr=0.02)\n",
    "criterion = HingeLoss()\n",
    "\n",
    "train_loader = torch.utils.data.DataLoader(train_data_bin, batch_size=c_batch_size, shuffle=True)\n",
    "test_loader = torch.utils.data.DataLoader(test_data_bin)\n",
    "\n",
    "losshist_train = []; losshist_test = []\n",
    "i = 0\n",
    "for epoch in range(epochs):\n",
    "    tiny_model.train()\n",
    "    losses = []; acces = []\n",
    "    for im, label in train_loader:\n",
    "        out = tiny_model(im)\n",
    "        #print(out)\n",
    "        loss = criterion(out.reshape(-1), label)\n",
    "        losses.append(float(loss.detach()))\n",
    "        optimizer.zero_grad()\n",
    "        loss.backward()\n",
    "        optimizer.step()\n",
    "        acc = accuracy(out.reshape(-1), label)\n",
    "        acces.append(float(acc))\n",
    "        i += 1\n",
    "    update(epoch, float(torch.mean(torch.tensor(losses))),\\\n",
    "           float(torch.mean(torch.tensor(acces))))\n",
    "    losshist_train.append(torch.mean(torch.tensor(losses)).item())\n",
    "    \n",
    "    tiny_model.eval()\n",
    "    losses = []\n",
    "    for im, label in test_loader:\n",
    "        out = tiny_model(im)\n",
    "        loss = criterion(out.reshape(-1), label)\n",
    "        losses.append(loss.detach())\n",
    "    losshist_test.append(torch.mean(torch.tensor(losses)).item())"
   ]
  },
  {
   "cell_type": "code",
   "execution_count": null,
   "metadata": {},
   "outputs": [],
   "source": [
    "count = 0; tot = 0\n",
    "for im, label in test_loader:\n",
    "    tiny_model.eval()\n",
    "    out = tiny_model(im)\n",
    "    if (out.item() > 0.5) == (label.item() > 0.5):\n",
    "        count += 1\n",
    "    tot += 1\n",
    "print(f'Test result: {count}/{tot} ({100 * count / tot} %)')"
   ]
  }
 ],
 "metadata": {
  "@webio": {
   "lastCommId": null,
   "lastKernelId": null
  },
  "kernelspec": {
   "display_name": "Python 3",
   "language": "python",
   "name": "python3"
  },
  "language_info": {
   "codemirror_mode": {
    "name": "ipython",
    "version": 3
   },
   "file_extension": ".py",
   "mimetype": "text/x-python",
   "name": "python",
   "nbconvert_exporter": "python",
   "pygments_lexer": "ipython3",
   "version": "3.8.3"
  }
 },
 "nbformat": 4,
 "nbformat_minor": 4
}
